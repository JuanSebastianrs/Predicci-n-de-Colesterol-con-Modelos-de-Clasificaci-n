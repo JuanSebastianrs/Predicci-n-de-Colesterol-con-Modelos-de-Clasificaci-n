{
  "nbformat": 4,
  "nbformat_minor": 0,
  "metadata": {
    "colab": {
      "provenance": []
    },
    "kernelspec": {
      "name": "python3",
      "display_name": "Python 3"
    },
    "language_info": {
      "name": "python"
    }
  },
  "cells": [
    {
      "cell_type": "markdown",
      "source": [
        "# Taller Clasificacion Johan Santiago Caro Valencia y Juan Sebastian Rodriguez Salazar"
      ],
      "metadata": {
        "id": "BcKZG5l6a_Pb"
      }
    },
    {
      "cell_type": "markdown",
      "source": [
        "knn\n",
        "naives\n",
        "arboles\n",
        "regresion logistica\n",
        "redes neuronales"
      ],
      "metadata": {
        "id": "wC04pBGQxm-S"
      }
    },
    {
      "cell_type": "code",
      "source": [
        "!pip3 install Tensorflow"
      ],
      "metadata": {
        "id": "DP2dq8HdC8Wc",
        "colab": {
          "base_uri": "https://localhost:8080/"
        },
        "outputId": "463ca357-a2fe-4fe3-c722-2109b84dd311"
      },
      "execution_count": null,
      "outputs": [
        {
          "output_type": "stream",
          "name": "stdout",
          "text": [
            "Requirement already satisfied: Tensorflow in /usr/local/lib/python3.10/dist-packages (2.15.0)\n",
            "Requirement already satisfied: absl-py>=1.0.0 in /usr/local/lib/python3.10/dist-packages (from Tensorflow) (1.4.0)\n",
            "Requirement already satisfied: astunparse>=1.6.0 in /usr/local/lib/python3.10/dist-packages (from Tensorflow) (1.6.3)\n",
            "Requirement already satisfied: flatbuffers>=23.5.26 in /usr/local/lib/python3.10/dist-packages (from Tensorflow) (24.3.25)\n",
            "Requirement already satisfied: gast!=0.5.0,!=0.5.1,!=0.5.2,>=0.2.1 in /usr/local/lib/python3.10/dist-packages (from Tensorflow) (0.5.4)\n",
            "Requirement already satisfied: google-pasta>=0.1.1 in /usr/local/lib/python3.10/dist-packages (from Tensorflow) (0.2.0)\n",
            "Requirement already satisfied: h5py>=2.9.0 in /usr/local/lib/python3.10/dist-packages (from Tensorflow) (3.9.0)\n",
            "Requirement already satisfied: libclang>=13.0.0 in /usr/local/lib/python3.10/dist-packages (from Tensorflow) (18.1.1)\n",
            "Requirement already satisfied: ml-dtypes~=0.2.0 in /usr/local/lib/python3.10/dist-packages (from Tensorflow) (0.2.0)\n",
            "Requirement already satisfied: numpy<2.0.0,>=1.23.5 in /usr/local/lib/python3.10/dist-packages (from Tensorflow) (1.25.2)\n",
            "Requirement already satisfied: opt-einsum>=2.3.2 in /usr/local/lib/python3.10/dist-packages (from Tensorflow) (3.3.0)\n",
            "Requirement already satisfied: packaging in /usr/local/lib/python3.10/dist-packages (from Tensorflow) (24.0)\n",
            "Requirement already satisfied: protobuf!=4.21.0,!=4.21.1,!=4.21.2,!=4.21.3,!=4.21.4,!=4.21.5,<5.0.0dev,>=3.20.3 in /usr/local/lib/python3.10/dist-packages (from Tensorflow) (3.20.3)\n",
            "Requirement already satisfied: setuptools in /usr/local/lib/python3.10/dist-packages (from Tensorflow) (67.7.2)\n",
            "Requirement already satisfied: six>=1.12.0 in /usr/local/lib/python3.10/dist-packages (from Tensorflow) (1.16.0)\n",
            "Requirement already satisfied: termcolor>=1.1.0 in /usr/local/lib/python3.10/dist-packages (from Tensorflow) (2.4.0)\n",
            "Requirement already satisfied: typing-extensions>=3.6.6 in /usr/local/lib/python3.10/dist-packages (from Tensorflow) (4.11.0)\n",
            "Requirement already satisfied: wrapt<1.15,>=1.11.0 in /usr/local/lib/python3.10/dist-packages (from Tensorflow) (1.14.1)\n",
            "Requirement already satisfied: tensorflow-io-gcs-filesystem>=0.23.1 in /usr/local/lib/python3.10/dist-packages (from Tensorflow) (0.37.0)\n",
            "Requirement already satisfied: grpcio<2.0,>=1.24.3 in /usr/local/lib/python3.10/dist-packages (from Tensorflow) (1.64.0)\n",
            "Requirement already satisfied: tensorboard<2.16,>=2.15 in /usr/local/lib/python3.10/dist-packages (from Tensorflow) (2.15.2)\n",
            "Requirement already satisfied: tensorflow-estimator<2.16,>=2.15.0 in /usr/local/lib/python3.10/dist-packages (from Tensorflow) (2.15.0)\n",
            "Requirement already satisfied: keras<2.16,>=2.15.0 in /usr/local/lib/python3.10/dist-packages (from Tensorflow) (2.15.0)\n",
            "Requirement already satisfied: wheel<1.0,>=0.23.0 in /usr/local/lib/python3.10/dist-packages (from astunparse>=1.6.0->Tensorflow) (0.43.0)\n",
            "Requirement already satisfied: google-auth<3,>=1.6.3 in /usr/local/lib/python3.10/dist-packages (from tensorboard<2.16,>=2.15->Tensorflow) (2.27.0)\n",
            "Requirement already satisfied: google-auth-oauthlib<2,>=0.5 in /usr/local/lib/python3.10/dist-packages (from tensorboard<2.16,>=2.15->Tensorflow) (1.2.0)\n",
            "Requirement already satisfied: markdown>=2.6.8 in /usr/local/lib/python3.10/dist-packages (from tensorboard<2.16,>=2.15->Tensorflow) (3.6)\n",
            "Requirement already satisfied: requests<3,>=2.21.0 in /usr/local/lib/python3.10/dist-packages (from tensorboard<2.16,>=2.15->Tensorflow) (2.31.0)\n",
            "Requirement already satisfied: tensorboard-data-server<0.8.0,>=0.7.0 in /usr/local/lib/python3.10/dist-packages (from tensorboard<2.16,>=2.15->Tensorflow) (0.7.2)\n",
            "Requirement already satisfied: werkzeug>=1.0.1 in /usr/local/lib/python3.10/dist-packages (from tensorboard<2.16,>=2.15->Tensorflow) (3.0.3)\n",
            "Requirement already satisfied: cachetools<6.0,>=2.0.0 in /usr/local/lib/python3.10/dist-packages (from google-auth<3,>=1.6.3->tensorboard<2.16,>=2.15->Tensorflow) (5.3.3)\n",
            "Requirement already satisfied: pyasn1-modules>=0.2.1 in /usr/local/lib/python3.10/dist-packages (from google-auth<3,>=1.6.3->tensorboard<2.16,>=2.15->Tensorflow) (0.4.0)\n",
            "Requirement already satisfied: rsa<5,>=3.1.4 in /usr/local/lib/python3.10/dist-packages (from google-auth<3,>=1.6.3->tensorboard<2.16,>=2.15->Tensorflow) (4.9)\n",
            "Requirement already satisfied: requests-oauthlib>=0.7.0 in /usr/local/lib/python3.10/dist-packages (from google-auth-oauthlib<2,>=0.5->tensorboard<2.16,>=2.15->Tensorflow) (1.3.1)\n",
            "Requirement already satisfied: charset-normalizer<4,>=2 in /usr/local/lib/python3.10/dist-packages (from requests<3,>=2.21.0->tensorboard<2.16,>=2.15->Tensorflow) (3.3.2)\n",
            "Requirement already satisfied: idna<4,>=2.5 in /usr/local/lib/python3.10/dist-packages (from requests<3,>=2.21.0->tensorboard<2.16,>=2.15->Tensorflow) (3.7)\n",
            "Requirement already satisfied: urllib3<3,>=1.21.1 in /usr/local/lib/python3.10/dist-packages (from requests<3,>=2.21.0->tensorboard<2.16,>=2.15->Tensorflow) (2.0.7)\n",
            "Requirement already satisfied: certifi>=2017.4.17 in /usr/local/lib/python3.10/dist-packages (from requests<3,>=2.21.0->tensorboard<2.16,>=2.15->Tensorflow) (2024.2.2)\n",
            "Requirement already satisfied: MarkupSafe>=2.1.1 in /usr/local/lib/python3.10/dist-packages (from werkzeug>=1.0.1->tensorboard<2.16,>=2.15->Tensorflow) (2.1.5)\n",
            "Requirement already satisfied: pyasn1<0.7.0,>=0.4.6 in /usr/local/lib/python3.10/dist-packages (from pyasn1-modules>=0.2.1->google-auth<3,>=1.6.3->tensorboard<2.16,>=2.15->Tensorflow) (0.6.0)\n",
            "Requirement already satisfied: oauthlib>=3.0.0 in /usr/local/lib/python3.10/dist-packages (from requests-oauthlib>=0.7.0->google-auth-oauthlib<2,>=0.5->tensorboard<2.16,>=2.15->Tensorflow) (3.2.2)\n"
          ]
        }
      ]
    },
    {
      "cell_type": "code",
      "source": [
        "!pip install prince"
      ],
      "metadata": {
        "colab": {
          "base_uri": "https://localhost:8080/"
        },
        "id": "sDj1oorIk5pv",
        "outputId": "46112a52-6216-4123-c874-b2904fe5a512"
      },
      "execution_count": null,
      "outputs": [
        {
          "output_type": "stream",
          "name": "stdout",
          "text": [
            "Requirement already satisfied: prince in /usr/local/lib/python3.10/dist-packages (0.13.0)\n",
            "Requirement already satisfied: altair<6.0.0,>=4.2.2 in /usr/local/lib/python3.10/dist-packages (from prince) (4.2.2)\n",
            "Requirement already satisfied: pandas<3.0.0,>=1.4.1 in /usr/local/lib/python3.10/dist-packages (from prince) (2.0.3)\n",
            "Requirement already satisfied: scikit-learn<2.0.0,>=1.0.2 in /usr/local/lib/python3.10/dist-packages (from prince) (1.2.2)\n",
            "Requirement already satisfied: entrypoints in /usr/local/lib/python3.10/dist-packages (from altair<6.0.0,>=4.2.2->prince) (0.4)\n",
            "Requirement already satisfied: jinja2 in /usr/local/lib/python3.10/dist-packages (from altair<6.0.0,>=4.2.2->prince) (3.1.4)\n",
            "Requirement already satisfied: jsonschema>=3.0 in /usr/local/lib/python3.10/dist-packages (from altair<6.0.0,>=4.2.2->prince) (4.19.2)\n",
            "Requirement already satisfied: numpy in /usr/local/lib/python3.10/dist-packages (from altair<6.0.0,>=4.2.2->prince) (1.25.2)\n",
            "Requirement already satisfied: toolz in /usr/local/lib/python3.10/dist-packages (from altair<6.0.0,>=4.2.2->prince) (0.12.1)\n",
            "Requirement already satisfied: python-dateutil>=2.8.2 in /usr/local/lib/python3.10/dist-packages (from pandas<3.0.0,>=1.4.1->prince) (2.8.2)\n",
            "Requirement already satisfied: pytz>=2020.1 in /usr/local/lib/python3.10/dist-packages (from pandas<3.0.0,>=1.4.1->prince) (2023.4)\n",
            "Requirement already satisfied: tzdata>=2022.1 in /usr/local/lib/python3.10/dist-packages (from pandas<3.0.0,>=1.4.1->prince) (2024.1)\n",
            "Requirement already satisfied: scipy>=1.3.2 in /usr/local/lib/python3.10/dist-packages (from scikit-learn<2.0.0,>=1.0.2->prince) (1.11.4)\n",
            "Requirement already satisfied: joblib>=1.1.1 in /usr/local/lib/python3.10/dist-packages (from scikit-learn<2.0.0,>=1.0.2->prince) (1.4.2)\n",
            "Requirement already satisfied: threadpoolctl>=2.0.0 in /usr/local/lib/python3.10/dist-packages (from scikit-learn<2.0.0,>=1.0.2->prince) (3.5.0)\n",
            "Requirement already satisfied: attrs>=22.2.0 in /usr/local/lib/python3.10/dist-packages (from jsonschema>=3.0->altair<6.0.0,>=4.2.2->prince) (23.2.0)\n",
            "Requirement already satisfied: jsonschema-specifications>=2023.03.6 in /usr/local/lib/python3.10/dist-packages (from jsonschema>=3.0->altair<6.0.0,>=4.2.2->prince) (2023.12.1)\n",
            "Requirement already satisfied: referencing>=0.28.4 in /usr/local/lib/python3.10/dist-packages (from jsonschema>=3.0->altair<6.0.0,>=4.2.2->prince) (0.35.1)\n",
            "Requirement already satisfied: rpds-py>=0.7.1 in /usr/local/lib/python3.10/dist-packages (from jsonschema>=3.0->altair<6.0.0,>=4.2.2->prince) (0.18.1)\n",
            "Requirement already satisfied: six>=1.5 in /usr/local/lib/python3.10/dist-packages (from python-dateutil>=2.8.2->pandas<3.0.0,>=1.4.1->prince) (1.16.0)\n",
            "Requirement already satisfied: MarkupSafe>=2.0 in /usr/local/lib/python3.10/dist-packages (from jinja2->altair<6.0.0,>=4.2.2->prince) (2.1.5)\n"
          ]
        }
      ]
    },
    {
      "cell_type": "code",
      "execution_count": null,
      "metadata": {
        "id": "9mkISjUPxGPx"
      },
      "outputs": [],
      "source": [
        "# Core\n",
        "import pandas as pd\n",
        "import numpy as np\n",
        "import sklearn\n",
        "import math\n",
        "from sklearn.feature_selection import RFE\n",
        "from sklearn.linear_model import LogisticRegression\n",
        "import prince\n",
        "import matplotlib.pyplot as plt\n",
        "import numpy as np\n",
        "# Preprocessing\n",
        "from sklearn.preprocessing import StandardScaler, Normalizer, OneHotEncoder, LabelEncoder, PolynomialFeatures\n",
        "from sklearn.impute import SimpleImputer\n",
        "from sklearn.compose import ColumnTransformer\n",
        "from sklearn.preprocessing import PolynomialFeatures\n",
        "from imblearn.over_sampling import SMOTE\n",
        "from imblearn.under_sampling import TomekLinks\n",
        "from prince import MCA\n",
        "from sklearn.cluster import KMeans\n",
        "from sklearn.cluster import KMeans\n",
        "from sklearn.metrics import silhouette_score\n",
        "# Tensorflow\n",
        "import tensorflow\n",
        "from tensorflow import keras\n",
        "from keras import layers,models\n",
        "from keras.models import Sequential\n",
        "from keras.layers import Dense\n",
        "\n",
        "# Models - Clasificación\n",
        "from sklearn.naive_bayes import GaussianNB\n",
        "from sklearn.tree import DecisionTreeClassifier\n",
        "from sklearn.neighbors import KNeighborsClassifier\n",
        "from sklearn.linear_model import LogisticRegression\n",
        "from sklearn.ensemble import RandomForestClassifier\n",
        "from sklearn.model_selection import GridSearchCV\n",
        "from sklearn.ensemble import BaggingClassifier\n",
        "from sklearn.model_selection import train_test_split\n",
        "from sklearn.metrics import accuracy_score\n",
        "from imblearn.over_sampling import ADASYN\n",
        "from sklearn.metrics import roc_auc_score, roc_curve\n",
        "from sklearn.feature_selection import RFE\n",
        "from sklearn.ensemble import GradientBoostingClassifier\n",
        "\n",
        "# Model Evaluation\n",
        "from sklearn.model_selection import train_test_split, cross_val_score,RandomizedSearchCV\n",
        "from sklearn.metrics import mean_absolute_error, mean_squared_error, accuracy_score, confusion_matrix, classification_report\n",
        "from sklearn.metrics import roc_curve, auc, roc_auc_score\n",
        "from sklearn.preprocessing import MinMaxScaler\n",
        "from sklearn.model_selection import permutation_test_score\n",
        "from sklearn.model_selection import cross_val_score, KFold\n",
        "\n",
        "# Visualization\n",
        "import matplotlib.pyplot as plt\n",
        "from matplotlib.colors import ListedColormap\n",
        "import seaborn as sns\n",
        "from ipywidgets import interact, widgets\n",
        "from IPython.display import display, Markdown"
      ]
    },
    {
      "cell_type": "markdown",
      "source": [
        "# Funciones"
      ],
      "metadata": {
        "id": "fhnk_Tbyz2j2"
      }
    },
    {
      "cell_type": "markdown",
      "source": [
        "#Convert Categorico"
      ],
      "metadata": {
        "id": "kvrj1chudClk"
      }
    },
    {
      "cell_type": "code",
      "source": [
        "def convertCategorico(dataframe, columnas):\n",
        "    encoded_data = pd.get_dummies(dataframe, columns=columnas)\n",
        "    return encoded_data\n"
      ],
      "metadata": {
        "id": "w1abbn_uzuqW"
      },
      "execution_count": null,
      "outputs": []
    },
    {
      "cell_type": "markdown",
      "source": [
        "##EncodeLabel"
      ],
      "metadata": {
        "id": "eyP_E4VJdIQu"
      }
    },
    {
      "cell_type": "code",
      "source": [
        "def encodeLabel(dataframe, columnas):\n",
        "  le = LabelEncoder()\n",
        "  for i in columnas:\n",
        "    dataframe[i] = le.fit_transform(dataframe[i])"
      ],
      "metadata": {
        "id": "RogrAsQddK0V"
      },
      "execution_count": null,
      "outputs": []
    },
    {
      "cell_type": "markdown",
      "source": [
        "##Split Data"
      ],
      "metadata": {
        "id": "lYp-bKiDdEZw"
      }
    },
    {
      "cell_type": "code",
      "source": [
        "def splitData(dataframe, columnY):\n",
        "  X = dataframe.drop([columnY], axis = 1)\n",
        "  y = dataframe[columnY]\n",
        "\n",
        "  return X, y"
      ],
      "metadata": {
        "id": "5vcFhAxAdFIX"
      },
      "execution_count": null,
      "outputs": []
    },
    {
      "cell_type": "markdown",
      "source": [
        "##Train Test"
      ],
      "metadata": {
        "id": "IMjk2cfPdNAT"
      }
    },
    {
      "cell_type": "code",
      "source": [
        "def trainTest(X, y, testSize, randomState):\n",
        "  X_train, X_test, y_train, y_test = train_test_split(X ,y , test_size = testSize, random_state = randomState, shuffle = True)\n",
        "\n",
        "  return X_train, X_test, y_train, y_test"
      ],
      "metadata": {
        "id": "HJiNg0ALdO39"
      },
      "execution_count": null,
      "outputs": []
    },
    {
      "cell_type": "markdown",
      "source": [
        "##Reporte Clasificación"
      ],
      "metadata": {
        "id": "-f4_oixXciuW"
      }
    },
    {
      "cell_type": "code",
      "source": [
        "def reporteClasificacion(y_test, y_pred):\n",
        "  print(f\"Reporte de clasificación:\")\n",
        "  print(classification_report(y_test, y_pred))\n",
        "  print(\"\\n\")\n",
        "\n",
        "def generar_reporte_parrafo(y_test, y_pred):\n",
        "    reporte = classification_report(y_test, y_pred, output_dict=True)\n",
        "    clases = list(reporte.keys())[:-3]  # Obtener nombres de clases (ignorar 'accuracy', 'macro avg' y 'weighted avg')\n",
        "    parrafo = \"Reporte de clasificación:\\n\\n\"\n",
        "    parrafo += \"Explicación de métricas:\\n\"\n",
        "    parrafo += \"- Precision: La proporción de observaciones positivas correctas respecto a las predicciones positivas totales.\\n\"\n",
        "    parrafo += \"- Recall: La proporción de observaciones positivas correctas respecto a todas las observaciones de la clase.\\n\"\n",
        "    parrafo += \"- F1-Score: Una medida ponderada de la precisión y el recall, donde el mejor valor es 1 y el peor es 0.\\n\"\n",
        "    parrafo += \"- Support: El número de ocurrencias de cada clase en los datos de prueba.\\n\\n\"\n",
        "    for clase in clases:\n",
        "        parrafo += f\"Clase {clase}:\\n\"\n",
        "        for metrica, valor in reporte[clase].items():\n",
        "            parrafo += f\"- {metrica}: {valor:.2f}\\n\"\n",
        "        parrafo += \"\\n\"\n",
        "    return parrafo.strip()\n",
        "\n",
        "\n",
        "def retorno_reporte_clasificacion(y_test, y_pred):\n",
        "    return classification_report(y_test, y_pred, output_dict=True)\n",
        "\n",
        "\n",
        "def graficar_reporte_clasificacion(reporte_clasificacion):\n",
        "    clases = list(reporte_clasificacion.keys())[:-3]  # Obtener nombres de clases (ignorar 'accuracy', 'macro avg' y 'weighted avg')\n",
        "    precision = [reporte_clasificacion[clase]['precision'] for clase in clases]\n",
        "    recall = [reporte_clasificacion[clase]['recall'] for clase in clases]\n",
        "    f1_score = [reporte_clasificacion[clase]['f1-score'] for clase in clases]\n",
        "\n",
        "    x = np.arange(len(clases))\n",
        "    width = 0.2\n",
        "\n",
        "    plt.figure(figsize=(10, 6))\n",
        "    plt.barh(x - width, precision, width, label='Precision')\n",
        "    plt.barh(x, recall, width, label='Recall')\n",
        "    plt.barh(x + width, f1_score, width, label='F1-Score')\n",
        "\n",
        "    plt.xlabel('Score')\n",
        "    plt.yticks(x, clases)\n",
        "    plt.title('Métricas por Clase')\n",
        "    plt.legend()\n",
        "    plt.show()\n"
      ],
      "metadata": {
        "id": "oXFsZ-Dcch47"
      },
      "execution_count": null,
      "outputs": []
    },
    {
      "cell_type": "markdown",
      "source": [
        "##Matrix de confusion"
      ],
      "metadata": {
        "id": "SZAcKv3Ncya5"
      }
    },
    {
      "cell_type": "code",
      "source": [
        "def retorno_matriz_confusion(y_test, y_pred):\n",
        "  return confusion_matrix(y_test, y_pred)\n",
        "\n",
        "def correlacion_matrix(data, column, porcentajeCorrelacion):\n",
        "  corr_matrix = data.corr()\n",
        "\n",
        "  top_corr_features = corr_matrix.index[abs(corr_matrix[column]) >= porcentajeCorrelacion]\n",
        "\n",
        "\n",
        "  plt.figure(figsize=(10, 6))\n",
        "  sns.heatmap(data[top_corr_features].corr(), annot=True, cmap=\"coolwarm\")\n",
        "\n",
        "  plt.title(f'Matriz de Correlación de las Variables mas correlacionadas con {column}')\n",
        "  plt.show()\n",
        "\n",
        "  def graficar_matriz_confusion(matriz_confusion, clases=None):\n",
        "    plt.figure(figsize=(8, 6))\n",
        "    sns.set(font_scale=1.2)\n",
        "    if clases is not None:\n",
        "        sns.heatmap(matriz_confusion, annot=True, fmt='d', cmap='Blues', xticklabels=clases, yticklabels=clases)\n",
        "    else:\n",
        "        sns.heatmap(matriz_confusion, annot=True, fmt='d', cmap='Blues')\n",
        "    plt.xlabel('Clase Predicha')\n",
        "    plt.ylabel('Clase Real')\n",
        "    plt.title('Matriz de Confusión')\n",
        "    plt.show()"
      ],
      "metadata": {
        "id": "YvuT9MxQc2Aq"
      },
      "execution_count": null,
      "outputs": []
    },
    {
      "cell_type": "code",
      "source": [
        "df=pd.read_excel('/content/Colesterol.xlsx')\n",
        "df1=df.copy()\n",
        "\n",
        "df.head()"
      ],
      "metadata": {
        "colab": {
          "base_uri": "https://localhost:8080/",
          "height": 206
        },
        "id": "RkVdwHcDz8fc",
        "outputId": "a2c5518f-0aed-4863-e2f0-554c79187cc1"
      },
      "execution_count": null,
      "outputs": [
        {
          "output_type": "execute_result",
          "data": {
            "text/plain": [
              "   Edad Sexo      PS        Na         K   Droga Colesterol\n",
              "0    23    F    ALTO  0.792535  0.031258  drogaY       ALTO\n",
              "1    47    M    BAJO  0.739309  0.056468  drogaC       ALTO\n",
              "2    47    M    BAJO  0.697269  0.068944  drogaC       ALTO\n",
              "3    28    F  NORMAL  0.563682  0.072289  drogaX       ALTO\n",
              "4    61    F    BAJO  0.559294  0.030998  drogaY       ALTO"
            ],
            "text/html": [
              "\n",
              "  <div id=\"df-76aa1b31-0541-4a42-8f5a-da4149fa60ec\" class=\"colab-df-container\">\n",
              "    <div>\n",
              "<style scoped>\n",
              "    .dataframe tbody tr th:only-of-type {\n",
              "        vertical-align: middle;\n",
              "    }\n",
              "\n",
              "    .dataframe tbody tr th {\n",
              "        vertical-align: top;\n",
              "    }\n",
              "\n",
              "    .dataframe thead th {\n",
              "        text-align: right;\n",
              "    }\n",
              "</style>\n",
              "<table border=\"1\" class=\"dataframe\">\n",
              "  <thead>\n",
              "    <tr style=\"text-align: right;\">\n",
              "      <th></th>\n",
              "      <th>Edad</th>\n",
              "      <th>Sexo</th>\n",
              "      <th>PS</th>\n",
              "      <th>Na</th>\n",
              "      <th>K</th>\n",
              "      <th>Droga</th>\n",
              "      <th>Colesterol</th>\n",
              "    </tr>\n",
              "  </thead>\n",
              "  <tbody>\n",
              "    <tr>\n",
              "      <th>0</th>\n",
              "      <td>23</td>\n",
              "      <td>F</td>\n",
              "      <td>ALTO</td>\n",
              "      <td>0.792535</td>\n",
              "      <td>0.031258</td>\n",
              "      <td>drogaY</td>\n",
              "      <td>ALTO</td>\n",
              "    </tr>\n",
              "    <tr>\n",
              "      <th>1</th>\n",
              "      <td>47</td>\n",
              "      <td>M</td>\n",
              "      <td>BAJO</td>\n",
              "      <td>0.739309</td>\n",
              "      <td>0.056468</td>\n",
              "      <td>drogaC</td>\n",
              "      <td>ALTO</td>\n",
              "    </tr>\n",
              "    <tr>\n",
              "      <th>2</th>\n",
              "      <td>47</td>\n",
              "      <td>M</td>\n",
              "      <td>BAJO</td>\n",
              "      <td>0.697269</td>\n",
              "      <td>0.068944</td>\n",
              "      <td>drogaC</td>\n",
              "      <td>ALTO</td>\n",
              "    </tr>\n",
              "    <tr>\n",
              "      <th>3</th>\n",
              "      <td>28</td>\n",
              "      <td>F</td>\n",
              "      <td>NORMAL</td>\n",
              "      <td>0.563682</td>\n",
              "      <td>0.072289</td>\n",
              "      <td>drogaX</td>\n",
              "      <td>ALTO</td>\n",
              "    </tr>\n",
              "    <tr>\n",
              "      <th>4</th>\n",
              "      <td>61</td>\n",
              "      <td>F</td>\n",
              "      <td>BAJO</td>\n",
              "      <td>0.559294</td>\n",
              "      <td>0.030998</td>\n",
              "      <td>drogaY</td>\n",
              "      <td>ALTO</td>\n",
              "    </tr>\n",
              "  </tbody>\n",
              "</table>\n",
              "</div>\n",
              "    <div class=\"colab-df-buttons\">\n",
              "\n",
              "  <div class=\"colab-df-container\">\n",
              "    <button class=\"colab-df-convert\" onclick=\"convertToInteractive('df-76aa1b31-0541-4a42-8f5a-da4149fa60ec')\"\n",
              "            title=\"Convert this dataframe to an interactive table.\"\n",
              "            style=\"display:none;\">\n",
              "\n",
              "  <svg xmlns=\"http://www.w3.org/2000/svg\" height=\"24px\" viewBox=\"0 -960 960 960\">\n",
              "    <path d=\"M120-120v-720h720v720H120Zm60-500h600v-160H180v160Zm220 220h160v-160H400v160Zm0 220h160v-160H400v160ZM180-400h160v-160H180v160Zm440 0h160v-160H620v160ZM180-180h160v-160H180v160Zm440 0h160v-160H620v160Z\"/>\n",
              "  </svg>\n",
              "    </button>\n",
              "\n",
              "  <style>\n",
              "    .colab-df-container {\n",
              "      display:flex;\n",
              "      gap: 12px;\n",
              "    }\n",
              "\n",
              "    .colab-df-convert {\n",
              "      background-color: #E8F0FE;\n",
              "      border: none;\n",
              "      border-radius: 50%;\n",
              "      cursor: pointer;\n",
              "      display: none;\n",
              "      fill: #1967D2;\n",
              "      height: 32px;\n",
              "      padding: 0 0 0 0;\n",
              "      width: 32px;\n",
              "    }\n",
              "\n",
              "    .colab-df-convert:hover {\n",
              "      background-color: #E2EBFA;\n",
              "      box-shadow: 0px 1px 2px rgba(60, 64, 67, 0.3), 0px 1px 3px 1px rgba(60, 64, 67, 0.15);\n",
              "      fill: #174EA6;\n",
              "    }\n",
              "\n",
              "    .colab-df-buttons div {\n",
              "      margin-bottom: 4px;\n",
              "    }\n",
              "\n",
              "    [theme=dark] .colab-df-convert {\n",
              "      background-color: #3B4455;\n",
              "      fill: #D2E3FC;\n",
              "    }\n",
              "\n",
              "    [theme=dark] .colab-df-convert:hover {\n",
              "      background-color: #434B5C;\n",
              "      box-shadow: 0px 1px 3px 1px rgba(0, 0, 0, 0.15);\n",
              "      filter: drop-shadow(0px 1px 2px rgba(0, 0, 0, 0.3));\n",
              "      fill: #FFFFFF;\n",
              "    }\n",
              "  </style>\n",
              "\n",
              "    <script>\n",
              "      const buttonEl =\n",
              "        document.querySelector('#df-76aa1b31-0541-4a42-8f5a-da4149fa60ec button.colab-df-convert');\n",
              "      buttonEl.style.display =\n",
              "        google.colab.kernel.accessAllowed ? 'block' : 'none';\n",
              "\n",
              "      async function convertToInteractive(key) {\n",
              "        const element = document.querySelector('#df-76aa1b31-0541-4a42-8f5a-da4149fa60ec');\n",
              "        const dataTable =\n",
              "          await google.colab.kernel.invokeFunction('convertToInteractive',\n",
              "                                                    [key], {});\n",
              "        if (!dataTable) return;\n",
              "\n",
              "        const docLinkHtml = 'Like what you see? Visit the ' +\n",
              "          '<a target=\"_blank\" href=https://colab.research.google.com/notebooks/data_table.ipynb>data table notebook</a>'\n",
              "          + ' to learn more about interactive tables.';\n",
              "        element.innerHTML = '';\n",
              "        dataTable['output_type'] = 'display_data';\n",
              "        await google.colab.output.renderOutput(dataTable, element);\n",
              "        const docLink = document.createElement('div');\n",
              "        docLink.innerHTML = docLinkHtml;\n",
              "        element.appendChild(docLink);\n",
              "      }\n",
              "    </script>\n",
              "  </div>\n",
              "\n",
              "\n",
              "<div id=\"df-225034cb-1d4b-45a7-b6ad-c5205e579d79\">\n",
              "  <button class=\"colab-df-quickchart\" onclick=\"quickchart('df-225034cb-1d4b-45a7-b6ad-c5205e579d79')\"\n",
              "            title=\"Suggest charts\"\n",
              "            style=\"display:none;\">\n",
              "\n",
              "<svg xmlns=\"http://www.w3.org/2000/svg\" height=\"24px\"viewBox=\"0 0 24 24\"\n",
              "     width=\"24px\">\n",
              "    <g>\n",
              "        <path d=\"M19 3H5c-1.1 0-2 .9-2 2v14c0 1.1.9 2 2 2h14c1.1 0 2-.9 2-2V5c0-1.1-.9-2-2-2zM9 17H7v-7h2v7zm4 0h-2V7h2v10zm4 0h-2v-4h2v4z\"/>\n",
              "    </g>\n",
              "</svg>\n",
              "  </button>\n",
              "\n",
              "<style>\n",
              "  .colab-df-quickchart {\n",
              "      --bg-color: #E8F0FE;\n",
              "      --fill-color: #1967D2;\n",
              "      --hover-bg-color: #E2EBFA;\n",
              "      --hover-fill-color: #174EA6;\n",
              "      --disabled-fill-color: #AAA;\n",
              "      --disabled-bg-color: #DDD;\n",
              "  }\n",
              "\n",
              "  [theme=dark] .colab-df-quickchart {\n",
              "      --bg-color: #3B4455;\n",
              "      --fill-color: #D2E3FC;\n",
              "      --hover-bg-color: #434B5C;\n",
              "      --hover-fill-color: #FFFFFF;\n",
              "      --disabled-bg-color: #3B4455;\n",
              "      --disabled-fill-color: #666;\n",
              "  }\n",
              "\n",
              "  .colab-df-quickchart {\n",
              "    background-color: var(--bg-color);\n",
              "    border: none;\n",
              "    border-radius: 50%;\n",
              "    cursor: pointer;\n",
              "    display: none;\n",
              "    fill: var(--fill-color);\n",
              "    height: 32px;\n",
              "    padding: 0;\n",
              "    width: 32px;\n",
              "  }\n",
              "\n",
              "  .colab-df-quickchart:hover {\n",
              "    background-color: var(--hover-bg-color);\n",
              "    box-shadow: 0 1px 2px rgba(60, 64, 67, 0.3), 0 1px 3px 1px rgba(60, 64, 67, 0.15);\n",
              "    fill: var(--button-hover-fill-color);\n",
              "  }\n",
              "\n",
              "  .colab-df-quickchart-complete:disabled,\n",
              "  .colab-df-quickchart-complete:disabled:hover {\n",
              "    background-color: var(--disabled-bg-color);\n",
              "    fill: var(--disabled-fill-color);\n",
              "    box-shadow: none;\n",
              "  }\n",
              "\n",
              "  .colab-df-spinner {\n",
              "    border: 2px solid var(--fill-color);\n",
              "    border-color: transparent;\n",
              "    border-bottom-color: var(--fill-color);\n",
              "    animation:\n",
              "      spin 1s steps(1) infinite;\n",
              "  }\n",
              "\n",
              "  @keyframes spin {\n",
              "    0% {\n",
              "      border-color: transparent;\n",
              "      border-bottom-color: var(--fill-color);\n",
              "      border-left-color: var(--fill-color);\n",
              "    }\n",
              "    20% {\n",
              "      border-color: transparent;\n",
              "      border-left-color: var(--fill-color);\n",
              "      border-top-color: var(--fill-color);\n",
              "    }\n",
              "    30% {\n",
              "      border-color: transparent;\n",
              "      border-left-color: var(--fill-color);\n",
              "      border-top-color: var(--fill-color);\n",
              "      border-right-color: var(--fill-color);\n",
              "    }\n",
              "    40% {\n",
              "      border-color: transparent;\n",
              "      border-right-color: var(--fill-color);\n",
              "      border-top-color: var(--fill-color);\n",
              "    }\n",
              "    60% {\n",
              "      border-color: transparent;\n",
              "      border-right-color: var(--fill-color);\n",
              "    }\n",
              "    80% {\n",
              "      border-color: transparent;\n",
              "      border-right-color: var(--fill-color);\n",
              "      border-bottom-color: var(--fill-color);\n",
              "    }\n",
              "    90% {\n",
              "      border-color: transparent;\n",
              "      border-bottom-color: var(--fill-color);\n",
              "    }\n",
              "  }\n",
              "</style>\n",
              "\n",
              "  <script>\n",
              "    async function quickchart(key) {\n",
              "      const quickchartButtonEl =\n",
              "        document.querySelector('#' + key + ' button');\n",
              "      quickchartButtonEl.disabled = true;  // To prevent multiple clicks.\n",
              "      quickchartButtonEl.classList.add('colab-df-spinner');\n",
              "      try {\n",
              "        const charts = await google.colab.kernel.invokeFunction(\n",
              "            'suggestCharts', [key], {});\n",
              "      } catch (error) {\n",
              "        console.error('Error during call to suggestCharts:', error);\n",
              "      }\n",
              "      quickchartButtonEl.classList.remove('colab-df-spinner');\n",
              "      quickchartButtonEl.classList.add('colab-df-quickchart-complete');\n",
              "    }\n",
              "    (() => {\n",
              "      let quickchartButtonEl =\n",
              "        document.querySelector('#df-225034cb-1d4b-45a7-b6ad-c5205e579d79 button');\n",
              "      quickchartButtonEl.style.display =\n",
              "        google.colab.kernel.accessAllowed ? 'block' : 'none';\n",
              "    })();\n",
              "  </script>\n",
              "</div>\n",
              "\n",
              "    </div>\n",
              "  </div>\n"
            ],
            "application/vnd.google.colaboratory.intrinsic+json": {
              "type": "dataframe",
              "variable_name": "df",
              "summary": "{\n  \"name\": \"df\",\n  \"rows\": 200,\n  \"fields\": [\n    {\n      \"column\": \"Edad\",\n      \"properties\": {\n        \"dtype\": \"number\",\n        \"std\": 16,\n        \"min\": 15,\n        \"max\": 74,\n        \"num_unique_values\": 57,\n        \"samples\": [\n          23,\n          49,\n          37\n        ],\n        \"semantic_type\": \"\",\n        \"description\": \"\"\n      }\n    },\n    {\n      \"column\": \"Sexo\",\n      \"properties\": {\n        \"dtype\": \"category\",\n        \"num_unique_values\": 2,\n        \"samples\": [\n          \"M\",\n          \"F\"\n        ],\n        \"semantic_type\": \"\",\n        \"description\": \"\"\n      }\n    },\n    {\n      \"column\": \"PS\",\n      \"properties\": {\n        \"dtype\": \"category\",\n        \"num_unique_values\": 3,\n        \"samples\": [\n          \"ALTO\",\n          \"BAJO\"\n        ],\n        \"semantic_type\": \"\",\n        \"description\": \"\"\n      }\n    },\n    {\n      \"column\": \"Na\",\n      \"properties\": {\n        \"dtype\": \"number\",\n        \"std\": 0.11890733362979061,\n        \"min\": 0.500169,\n        \"max\": 0.896056,\n        \"num_unique_values\": 200,\n        \"samples\": [\n          0.52765,\n          0.833837\n        ],\n        \"semantic_type\": \"\",\n        \"description\": \"\"\n      }\n    },\n    {\n      \"column\": \"K\",\n      \"properties\": {\n        \"dtype\": \"number\",\n        \"std\": 0.01761148485505907,\n        \"min\": 0.020022,\n        \"max\": 0.079788,\n        \"num_unique_values\": 200,\n        \"samples\": [\n          0.046188,\n          0.053742\n        ],\n        \"semantic_type\": \"\",\n        \"description\": \"\"\n      }\n    },\n    {\n      \"column\": \"Droga\",\n      \"properties\": {\n        \"dtype\": \"category\",\n        \"num_unique_values\": 5,\n        \"samples\": [\n          \"drogaC\",\n          \"drogaB\"\n        ],\n        \"semantic_type\": \"\",\n        \"description\": \"\"\n      }\n    },\n    {\n      \"column\": \"Colesterol\",\n      \"properties\": {\n        \"dtype\": \"category\",\n        \"num_unique_values\": 2,\n        \"samples\": [\n          \"NORMAL\",\n          \"ALTO\"\n        ],\n        \"semantic_type\": \"\",\n        \"description\": \"\"\n      }\n    }\n  ]\n}"
            }
          },
          "metadata": {},
          "execution_count": 343
        }
      ]
    },
    {
      "cell_type": "code",
      "source": [
        "df.info()"
      ],
      "metadata": {
        "colab": {
          "base_uri": "https://localhost:8080/"
        },
        "id": "BK50dDSbj1R7",
        "outputId": "8da7a00c-b5f6-4278-fc4d-3459c5f6b1f2"
      },
      "execution_count": null,
      "outputs": [
        {
          "output_type": "stream",
          "name": "stdout",
          "text": [
            "<class 'pandas.core.frame.DataFrame'>\n",
            "RangeIndex: 200 entries, 0 to 199\n",
            "Data columns (total 7 columns):\n",
            " #   Column      Non-Null Count  Dtype  \n",
            "---  ------      --------------  -----  \n",
            " 0   Edad        200 non-null    int64  \n",
            " 1   Sexo        200 non-null    object \n",
            " 2   PS          200 non-null    object \n",
            " 3   Na          200 non-null    float64\n",
            " 4   K           200 non-null    float64\n",
            " 5   Droga       200 non-null    object \n",
            " 6   Colesterol  200 non-null    object \n",
            "dtypes: float64(2), int64(1), object(4)\n",
            "memory usage: 11.1+ KB\n"
          ]
        }
      ]
    },
    {
      "cell_type": "code",
      "source": [
        "encodeLabel(df,['Colesterol'])"
      ],
      "metadata": {
        "id": "MVvmXpNFzGBD"
      },
      "execution_count": null,
      "outputs": []
    },
    {
      "cell_type": "code",
      "source": [
        "categorical_columns = ['Sexo', 'PS','Droga' ]\n",
        "data_categorical = df[categorical_columns]"
      ],
      "metadata": {
        "id": "yJX3UzNSj8HN"
      },
      "execution_count": null,
      "outputs": []
    },
    {
      "cell_type": "code",
      "source": [
        "data_categorical.info()"
      ],
      "metadata": {
        "colab": {
          "base_uri": "https://localhost:8080/"
        },
        "id": "f8qbUPSQrzjr",
        "outputId": "a4095ddb-233b-40d8-99eb-2af5661da018"
      },
      "execution_count": null,
      "outputs": [
        {
          "output_type": "stream",
          "name": "stdout",
          "text": [
            "<class 'pandas.core.frame.DataFrame'>\n",
            "RangeIndex: 200 entries, 0 to 199\n",
            "Data columns (total 3 columns):\n",
            " #   Column  Non-Null Count  Dtype \n",
            "---  ------  --------------  ----- \n",
            " 0   Sexo    200 non-null    object\n",
            " 1   PS      200 non-null    object\n",
            " 2   Droga   200 non-null    object\n",
            "dtypes: object(3)\n",
            "memory usage: 4.8+ KB\n"
          ]
        }
      ]
    },
    {
      "cell_type": "code",
      "source": [
        "data_cleaned = data_categorical\n",
        "\n",
        "# Convertir a categoría las columnas relevantes\n",
        "for col in ['Sexo', 'PS','Droga' ]:\n",
        "    data_cleaned[col] = data_cleaned[col].astype('category')\n",
        "\n",
        "print(data_cleaned.info())"
      ],
      "metadata": {
        "colab": {
          "base_uri": "https://localhost:8080/"
        },
        "id": "yCFx1EOYsHIE",
        "outputId": "ad0b6f03-d3b7-46db-9f5d-38d2061b4dde"
      },
      "execution_count": null,
      "outputs": [
        {
          "output_type": "stream",
          "name": "stdout",
          "text": [
            "<class 'pandas.core.frame.DataFrame'>\n",
            "RangeIndex: 200 entries, 0 to 199\n",
            "Data columns (total 3 columns):\n",
            " #   Column  Non-Null Count  Dtype   \n",
            "---  ------  --------------  -----   \n",
            " 0   Sexo    200 non-null    category\n",
            " 1   PS      200 non-null    category\n",
            " 2   Droga   200 non-null    category\n",
            "dtypes: category(3)\n",
            "memory usage: 1.2 KB\n",
            "None\n"
          ]
        },
        {
          "output_type": "stream",
          "name": "stderr",
          "text": [
            "<ipython-input-348-944861fe1df6>:5: SettingWithCopyWarning: \n",
            "A value is trying to be set on a copy of a slice from a DataFrame.\n",
            "Try using .loc[row_indexer,col_indexer] = value instead\n",
            "\n",
            "See the caveats in the documentation: https://pandas.pydata.org/pandas-docs/stable/user_guide/indexing.html#returning-a-view-versus-a-copy\n",
            "  data_cleaned[col] = data_cleaned[col].astype('category')\n",
            "<ipython-input-348-944861fe1df6>:5: SettingWithCopyWarning: \n",
            "A value is trying to be set on a copy of a slice from a DataFrame.\n",
            "Try using .loc[row_indexer,col_indexer] = value instead\n",
            "\n",
            "See the caveats in the documentation: https://pandas.pydata.org/pandas-docs/stable/user_guide/indexing.html#returning-a-view-versus-a-copy\n",
            "  data_cleaned[col] = data_cleaned[col].astype('category')\n",
            "<ipython-input-348-944861fe1df6>:5: SettingWithCopyWarning: \n",
            "A value is trying to be set on a copy of a slice from a DataFrame.\n",
            "Try using .loc[row_indexer,col_indexer] = value instead\n",
            "\n",
            "See the caveats in the documentation: https://pandas.pydata.org/pandas-docs/stable/user_guide/indexing.html#returning-a-view-versus-a-copy\n",
            "  data_cleaned[col] = data_cleaned[col].astype('category')\n"
          ]
        }
      ]
    },
    {
      "cell_type": "markdown",
      "source": [
        "# ACM"
      ],
      "metadata": {
        "id": "lJq3yPEGjaDn"
      }
    },
    {
      "cell_type": "code",
      "source": [
        "mca = prince.MCA(n_components=len(categorical_columns), random_state=42)\n",
        "mca = mca.fit(data_categorical)\n",
        "coordinates = mca.transform(data_categorical)\n",
        "\n",
        "# Calcular la inercia explicada\n",
        "explained_inertia = (coordinates ** 2).sum(axis=0) / (coordinates ** 2).sum().sum()\n",
        "\n",
        "# Graficar la inercia explicada\n",
        "plt.figure(figsize=(10, 6))\n",
        "plt.plot(range(1, len(explained_inertia) + 1), explained_inertia, marker='o')\n",
        "plt.xlabel('Número de Componentes')\n",
        "plt.ylabel('Proporción de Inercia Explicada')\n",
        "plt.title('Inercia Explicada por cada Componente')\n",
        "plt.grid()\n",
        "plt.show()\n",
        "\n",
        "# Mostrar la inercia acumulada\n",
        "cumulative_inertia = explained_inertia.cumsum()\n",
        "print(\"Inercia Acumulada:\", cumulative_inertia)"
      ],
      "metadata": {
        "colab": {
          "base_uri": "https://localhost:8080/",
          "height": 634
        },
        "id": "Wxs2P_yvjZHW",
        "outputId": "bff6215f-bc57-47b3-cd9e-55dd619d32a7"
      },
      "execution_count": null,
      "outputs": [
        {
          "output_type": "display_data",
          "data": {
            "text/plain": [
              "<Figure size 1000x600 with 1 Axes>"
            ],
            "image/png": "[encoded data removed]"
          },
          "metadata": {}
        },
        {
          "output_type": "stream",
          "name": "stdout",
          "text": [
            "Inercia Acumulada: 0    0.408692\n",
            "1    0.746592\n",
            "2    1.000000\n",
            "dtype: float64\n"
          ]
        }
      ]
    },
    {
      "cell_type": "code",
      "source": [
        "optimal_components = 2  # Supongamos que se decidió usar 2 componentes\n",
        "mca = prince.MCA(n_components=optimal_components, random_state=42)\n",
        "mca_results = mca.fit_transform(data_categorical.select_dtypes(['category']))\n",
        "\n",
        "# Añadir los resultados al DataFrame\n",
        "numerical_columns=['Edad', 'Na','K', 'Colesterol']\n",
        "data_numerical = df[numerical_columns]\n",
        "df_all = data_numerical.copy()\n",
        "df_all['MCA1'] = mca_results.iloc[:, 0]\n",
        "df_all['MCA2'] = mca_results.iloc[:, 1]\n",
        "#--------------------------------------------------------------\n",
        "\n"
      ],
      "metadata": {
        "id": "KoEU9KPUqzAf"
      },
      "execution_count": null,
      "outputs": []
    },
    {
      "cell_type": "code",
      "source": [
        "df_all.info()"
      ],
      "metadata": {
        "colab": {
          "base_uri": "https://localhost:8080/"
        },
        "id": "40NbkZ_9qzTU",
        "outputId": "0bd62d5e-73c3-4e92-a31f-14a4b2e1aa60"
      },
      "execution_count": null,
      "outputs": [
        {
          "output_type": "stream",
          "name": "stdout",
          "text": [
            "<class 'pandas.core.frame.DataFrame'>\n",
            "RangeIndex: 200 entries, 0 to 199\n",
            "Data columns (total 6 columns):\n",
            " #   Column      Non-Null Count  Dtype  \n",
            "---  ------      --------------  -----  \n",
            " 0   Edad        200 non-null    int64  \n",
            " 1   Na          200 non-null    float64\n",
            " 2   K           200 non-null    float64\n",
            " 3   Colesterol  200 non-null    int64  \n",
            " 4   MCA1        200 non-null    float64\n",
            " 5   MCA2        200 non-null    float64\n",
            "dtypes: float64(4), int64(2)\n",
            "memory usage: 9.5 KB\n"
          ]
        }
      ]
    },
    {
      "cell_type": "code",
      "source": [
        "correlacion_matrix(df_all, 'Colesterol', 0.05)"
      ],
      "metadata": {
        "colab": {
          "base_uri": "https://localhost:8080/",
          "height": 545
        },
        "id": "aSXYU65ty7Tq",
        "outputId": "f66d1d85-c619-4823-81bc-bb24b124727e"
      },
      "execution_count": null,
      "outputs": [
        {
          "output_type": "display_data",
          "data": {
            "text/plain": [
              "<Figure size 1000x600 with 2 Axes>"
            ],
            "image/png": "[encoded data removed]"
          },
          "metadata": {}
        }
      ]
    },
    {
      "cell_type": "markdown",
      "source": [
        "# *KNN*"
      ],
      "metadata": {
        "id": "xZG40mcJkQ8e"
      }
    },
    {
      "cell_type": "code",
      "source": [
        "X,y = splitData(df_all, 'Colesterol')"
      ],
      "metadata": {
        "id": "xwaOUTlj039t"
      },
      "execution_count": null,
      "outputs": []
    },
    {
      "cell_type": "code",
      "source": [
        "columnas_seleccionadas = ['Edad', 'MCA2']"
      ],
      "metadata": {
        "id": "_G6nOaqH1M7v"
      },
      "execution_count": null,
      "outputs": []
    },
    {
      "cell_type": "code",
      "source": [
        "KNN_df = df_all[columnas_seleccionadas]"
      ],
      "metadata": {
        "id": "R6PbXbsK1avs"
      },
      "execution_count": null,
      "outputs": []
    },
    {
      "cell_type": "code",
      "source": [
        "smote = SMOTE(sampling_strategy={0: 1000, 1: 800}, random_state=42)\n",
        "X, y = smote.fit_resample(X, y)"
      ],
      "metadata": {
        "colab": {
          "base_uri": "https://localhost:8080/"
        },
        "id": "8pOchUXi2MPO",
        "outputId": "fe2adef1-2b68-4ef1-fdad-45231c6b1a6b"
      },
      "execution_count": null,
      "outputs": [
        {
          "output_type": "stream",
          "name": "stderr",
          "text": [
            "/usr/local/lib/python3.10/dist-packages/imblearn/utils/_validation.py:313: UserWarning: After over-sampling, the number of samples (1000) in class 0 will be larger than the number of samples in the majority class (class #0 -> 103)\n",
            "  warnings.warn(\n",
            "/usr/local/lib/python3.10/dist-packages/imblearn/utils/_validation.py:313: UserWarning: After over-sampling, the number of samples (800) in class 1 will be larger than the number of samples in the majority class (class #0 -> 103)\n",
            "  warnings.warn(\n"
          ]
        }
      ]
    },
    {
      "cell_type": "code",
      "source": [
        "X_train, X_test, y_train, y_test = trainTest(X, y, 0.1, 1234)\n",
        "\n",
        "sc = StandardScaler()\n",
        "X_train = sc.fit_transform(X_train)\n",
        "X_test = sc.transform(X_test)\n"
      ],
      "metadata": {
        "id": "snLmbGcl2P3k"
      },
      "execution_count": null,
      "outputs": []
    },
    {
      "cell_type": "code",
      "source": [
        "distancia=[]\n",
        "for i in range(2,15):\n",
        "  knprueba=KNeighborsClassifier(n_neighbors=i)\n",
        "  knprueba.fit(X_train,y_train)\n",
        "  distancia.append(knprueba.score(X_test,y_test))\n",
        "\n",
        "plt.plot(range(2,15),distancia)\n",
        "plt.xlabel('Numero de vecinos')\n",
        "plt.ylabel('distancia o precision con los vecinos que preuba')\n",
        "plt.show()"
      ],
      "metadata": {
        "colab": {
          "base_uri": "https://localhost:8080/",
          "height": 449
        },
        "id": "fb-Rj7ie2RzT",
        "outputId": "bc0c92b2-c949-4960-d920-834ec5995f1d"
      },
      "execution_count": null,
      "outputs": [
        {
          "output_type": "display_data",
          "data": {
            "text/plain": [
              "<Figure size 640x480 with 1 Axes>"
            ],
            "image/png": "[encoded data removed]"
          },
          "metadata": {}
        }
      ]
    },
    {
      "cell_type": "code",
      "source": [
        "knn=KNeighborsClassifier(n_neighbors=2)\n",
        "knn.fit(X_train,y_train)\n",
        "y_pred=knn.predict(X_test)"
      ],
      "metadata": {
        "id": "9JKl3yNh2SGA"
      },
      "execution_count": null,
      "outputs": []
    },
    {
      "cell_type": "code",
      "source": [
        "cm = confusion_matrix(y_test, y_pred)\n",
        "\n",
        "fig, ax = plt.subplots(figsize=(8, 8))\n",
        "\n",
        "sns.heatmap(cm, annot=True, fmt='d', ax=ax, cmap='Blues', cbar=False)\n",
        "\n",
        "ax.set_title('Matriz de Confusión', fontsize=16)\n",
        "ax.set_xlabel('Predicciones', fontsize=14)\n",
        "ax.set_ylabel('Resultados Reales', fontsize=14)\n",
        "\n",
        "ax.xaxis.set_ticklabels(['Clase 0', 'Clase 1'])\n",
        "ax.yaxis.set_ticklabels(['Clase 0', 'Clase 1'])\n",
        "\n",
        "plt.show()"
      ],
      "metadata": {
        "colab": {
          "base_uri": "https://localhost:8080/",
          "height": 725
        },
        "id": "9Jsm6Mah2aJA",
        "outputId": "f6cd1b93-5ac7-4565-81cf-13ab8e61d7d6"
      },
      "execution_count": null,
      "outputs": [
        {
          "output_type": "display_data",
          "data": {
            "text/plain": [
              "<Figure size 800x800 with 1 Axes>"
            ],
            "image/png": "[encoded data removed]"
          },
          "metadata": {}
        }
      ]
    },
    {
      "cell_type": "code",
      "source": [
        "reporteClasificacion(y_test,y_pred)"
      ],
      "metadata": {
        "colab": {
          "base_uri": "https://localhost:8080/"
        },
        "id": "n6OkdgE02sIj",
        "outputId": "90eebf92-a621-4676-c7d6-0bb0379f828f"
      },
      "execution_count": null,
      "outputs": [
        {
          "output_type": "stream",
          "name": "stdout",
          "text": [
            "Reporte de clasificación:\n",
            "              precision    recall  f1-score   support\n",
            "\n",
            "           0       0.86      0.96      0.91       105\n",
            "           1       0.94      0.79      0.86        75\n",
            "\n",
            "    accuracy                           0.89       180\n",
            "   macro avg       0.90      0.87      0.88       180\n",
            "weighted avg       0.89      0.89      0.89       180\n",
            "\n",
            "\n",
            "\n"
          ]
        }
      ]
    },
    {
      "cell_type": "code",
      "source": [
        "print(generar_reporte_parrafo(y_test, y_pred))"
      ],
      "metadata": {
        "colab": {
          "base_uri": "https://localhost:8080/"
        },
        "id": "5mhoE7DO21_6",
        "outputId": "2b53a12e-2e6c-41e7-c052-246669b78ee2"
      },
      "execution_count": null,
      "outputs": [
        {
          "output_type": "stream",
          "name": "stdout",
          "text": [
            "Reporte de clasificación:\n",
            "\n",
            "Explicación de métricas:\n",
            "- Precision: La proporción de observaciones positivas correctas respecto a las predicciones positivas totales.\n",
            "- Recall: La proporción de observaciones positivas correctas respecto a todas las observaciones de la clase.\n",
            "- F1-Score: Una medida ponderada de la precisión y el recall, donde el mejor valor es 1 y el peor es 0.\n",
            "- Support: El número de ocurrencias de cada clase en los datos de prueba.\n",
            "\n",
            "Clase 0:\n",
            "- precision: 0.86\n",
            "- recall: 0.96\n",
            "- f1-score: 0.91\n",
            "- support: 105.00\n",
            "\n",
            "Clase 1:\n",
            "- precision: 0.94\n",
            "- recall: 0.79\n",
            "- f1-score: 0.86\n",
            "- support: 75.00\n"
          ]
        }
      ]
    },
    {
      "cell_type": "markdown",
      "source": [
        "# Regresion Logistica"
      ],
      "metadata": {
        "id": "GMgh00Xt3PPf"
      }
    },
    {
      "cell_type": "code",
      "source": [
        "param_grid = {'C': [0.001, 0.01, 0.1, 1, 10, 100, 1000], 'penalty': ['l1', 'l2']}\n",
        "\n",
        "grid = GridSearchCV(LogisticRegression(random_state=1234), param_grid, cv=5)\n",
        "grid.fit(X_train, y_train)\n",
        "\n",
        "print(f'El mejor parámetro C es: {grid.best_params_}')"
      ],
      "metadata": {
        "colab": {
          "base_uri": "https://localhost:8080/"
        },
        "id": "Saz5V9BP3RVU",
        "outputId": "8b02b1a7-6a0b-49d2-ef0f-80739ba8d822"
      },
      "execution_count": null,
      "outputs": [
        {
          "output_type": "stream",
          "name": "stdout",
          "text": [
            "El mejor parámetro C es: {'C': 0.001, 'penalty': 'l2'}\n"
          ]
        },
        {
          "output_type": "stream",
          "name": "stderr",
          "text": [
            "/usr/local/lib/python3.10/dist-packages/sklearn/model_selection/_validation.py:378: FitFailedWarning: \n",
            "35 fits failed out of a total of 70.\n",
            "The score on these train-test partitions for these parameters will be set to nan.\n",
            "If these failures are not expected, you can try to debug them by setting error_score='raise'.\n",
            "\n",
            "Below are more details about the failures:\n",
            "--------------------------------------------------------------------------------\n",
            "35 fits failed with the following error:\n",
            "Traceback (most recent call last):\n",
            "  File \"/usr/local/lib/python3.10/dist-packages/sklearn/model_selection/_validation.py\", line 686, in _fit_and_score\n",
            "    estimator.fit(X_train, y_train, **fit_params)\n",
            "  File \"/usr/local/lib/python3.10/dist-packages/sklearn/linear_model/_logistic.py\", line 1162, in fit\n",
            "    solver = _check_solver(self.solver, self.penalty, self.dual)\n",
            "  File \"/usr/local/lib/python3.10/dist-packages/sklearn/linear_model/_logistic.py\", line 54, in _check_solver\n",
            "    raise ValueError(\n",
            "ValueError: Solver lbfgs supports only 'l2' or 'none' penalties, got l1 penalty.\n",
            "\n",
            "  warnings.warn(some_fits_failed_message, FitFailedWarning)\n",
            "/usr/local/lib/python3.10/dist-packages/sklearn/model_selection/_search.py:952: UserWarning: One or more of the test scores are non-finite: [       nan 0.55246914        nan 0.54567901        nan 0.53950617\n",
            "        nan 0.53888889        nan 0.53888889        nan 0.53888889\n",
            "        nan 0.53888889]\n",
            "  warnings.warn(\n"
          ]
        }
      ]
    },
    {
      "cell_type": "code",
      "source": [
        "classifier = LogisticRegression(C=1, penalty = 'l2',random_state = 1234)\n",
        "classifier.fit(X_train, y_train)"
      ],
      "metadata": {
        "colab": {
          "base_uri": "https://localhost:8080/",
          "height": 75
        },
        "id": "IFXS-x0_3V-X",
        "outputId": "5d680cc0-37a1-450f-9f5e-9869053e8274"
      },
      "execution_count": null,
      "outputs": [
        {
          "output_type": "execute_result",
          "data": {
            "text/plain": [
              "LogisticRegression(C=1, random_state=1234)"
            ],
            "text/html": [
              "<style>#sk-container-id-3 {color: black;background-color: white;}#sk-container-id-3 pre{padding: 0;}#sk-container-id-3 div.sk-toggleable {background-color: white;}#sk-container-id-3 label.sk-toggleable__label {cursor: pointer;display: block;width: 100%;margin-bottom: 0;padding: 0.3em;box-sizing: border-box;text-align: center;}#sk-container-id-3 label.sk-toggleable__label-arrow:before {content: \"▸\";float: left;margin-right: 0.25em;color: #696969;}#sk-container-id-3 label.sk-toggleable__label-arrow:hover:before {color: black;}#sk-container-id-3 div.sk-estimator:hover label.sk-toggleable__label-arrow:before {color: black;}#sk-container-id-3 div.sk-toggleable__content {max-height: 0;max-width: 0;overflow: hidden;text-align: left;background-color: #f0f8ff;}#sk-container-id-3 div.sk-toggleable__content pre {margin: 0.2em;color: black;border-radius: 0.25em;background-color: #f0f8ff;}#sk-container-id-3 input.sk-toggleable__control:checked~div.sk-toggleable__content {max-height: 200px;max-width: 100%;overflow: auto;}#sk-container-id-3 input.sk-toggleable__control:checked~label.sk-toggleable__label-arrow:before {content: \"▾\";}#sk-container-id-3 div.sk-estimator input.sk-toggleable__control:checked~label.sk-toggleable__label {background-color: #d4ebff;}#sk-container-id-3 div.sk-label input.sk-toggleable__control:checked~label.sk-toggleable__label {background-color: #d4ebff;}#sk-container-id-3 input.sk-hidden--visually {border: 0;clip: rect(1px 1px 1px 1px);clip: rect(1px, 1px, 1px, 1px);height: 1px;margin: -1px;overflow: hidden;padding: 0;position: absolute;width: 1px;}#sk-container-id-3 div.sk-estimator {font-family: monospace;background-color: #f0f8ff;border: 1px dotted black;border-radius: 0.25em;box-sizing: border-box;margin-bottom: 0.5em;}#sk-container-id-3 div.sk-estimator:hover {background-color: #d4ebff;}#sk-container-id-3 div.sk-parallel-item::after {content: \"\";width: 100%;border-bottom: 1px solid gray;flex-grow: 1;}#sk-container-id-3 div.sk-label:hover label.sk-toggleable__label {background-color: #d4ebff;}#sk-container-id-3 div.sk-serial::before {content: \"\";position: absolute;border-left: 1px solid gray;box-sizing: border-box;top: 0;bottom: 0;left: 50%;z-index: 0;}#sk-container-id-3 div.sk-serial {display: flex;flex-direction: column;align-items: center;background-color: white;padding-right: 0.2em;padding-left: 0.2em;position: relative;}#sk-container-id-3 div.sk-item {position: relative;z-index: 1;}#sk-container-id-3 div.sk-parallel {display: flex;align-items: stretch;justify-content: center;background-color: white;position: relative;}#sk-container-id-3 div.sk-item::before, #sk-container-id-3 div.sk-parallel-item::before {content: \"\";position: absolute;border-left: 1px solid gray;box-sizing: border-box;top: 0;bottom: 0;left: 50%;z-index: -1;}#sk-container-id-3 div.sk-parallel-item {display: flex;flex-direction: column;z-index: 1;position: relative;background-color: white;}#sk-container-id-3 div.sk-parallel-item:first-child::after {align-self: flex-end;width: 50%;}#sk-container-id-3 div.sk-parallel-item:last-child::after {align-self: flex-start;width: 50%;}#sk-container-id-3 div.sk-parallel-item:only-child::after {width: 0;}#sk-container-id-3 div.sk-dashed-wrapped {border: 1px dashed gray;margin: 0 0.4em 0.5em 0.4em;box-sizing: border-box;padding-bottom: 0.4em;background-color: white;}#sk-container-id-3 div.sk-label label {font-family: monospace;font-weight: bold;display: inline-block;line-height: 1.2em;}#sk-container-id-3 div.sk-label-container {text-align: center;}#sk-container-id-3 div.sk-container {/* jupyter's `normalize.less` sets `[hidden] { display: none; }` but bootstrap.min.css set `[hidden] { display: none !important; }` so we also need the `!important` here to be able to override the default hidden behavior on the sphinx rendered scikit-learn.org. See: https://github.com/scikit-learn/scikit-learn/issues/21755 */display: inline-block !important;position: relative;}#sk-container-id-3 div.sk-text-repr-fallback {display: none;}</style><div id=\"sk-container-id-3\" class=\"sk-top-container\"><div class=\"sk-text-repr-fallback\"><pre>LogisticRegression(C=1, random_state=1234)</pre><b>In a Jupyter environment, please rerun this cell to show the HTML representation or trust the notebook. <br />On GitHub, the HTML representation is unable to render, please try loading this page with nbviewer.org.</b></div><div class=\"sk-container\" hidden><div class=\"sk-item\"><div class=\"sk-estimator sk-toggleable\"><input class=\"sk-toggleable__control sk-hidden--visually\" id=\"sk-estimator-id-3\" type=\"checkbox\" checked><label for=\"sk-estimator-id-3\" class=\"sk-toggleable__label sk-toggleable__label-arrow\">LogisticRegression</label><div class=\"sk-toggleable__content\"><pre>LogisticRegression(C=1, random_state=1234)</pre></div></div></div></div></div>"
            ]
          },
          "metadata": {},
          "execution_count": 364
        }
      ]
    },
    {
      "cell_type": "code",
      "source": [
        "y_pred = classifier.predict(X_test)"
      ],
      "metadata": {
        "id": "ttoGcX653WSW"
      },
      "execution_count": null,
      "outputs": []
    },
    {
      "cell_type": "code",
      "source": [
        "cm = confusion_matrix(y_test, y_pred)\n",
        "\n",
        "\n",
        "accuracy = accuracy_score(y_test, y_pred)\n",
        "print(f'Precisión del modelo: {accuracy}')\n",
        "\n",
        "print('Matriz de confusión:')\n",
        "print(cm)\n",
        "\n",
        "plt.figure(figsize=(10,7))\n",
        "sns.heatmap(cm, annot=True, fmt='d')\n",
        "plt.xlabel('Predicho')\n",
        "plt.ylabel('Real')\n",
        "plt.show()"
      ],
      "metadata": {
        "colab": {
          "base_uri": "https://localhost:8080/",
          "height": 688
        },
        "id": "W-FvrLzq3X1j",
        "outputId": "fcb7c736-e06f-4333-fe77-6d20067c44de"
      },
      "execution_count": null,
      "outputs": [
        {
          "output_type": "stream",
          "name": "stdout",
          "text": [
            "Precisión del modelo: 0.5444444444444444\n",
            "Matriz de confusión:\n",
            "[[76 29]\n",
            " [53 22]]\n"
          ]
        },
        {
          "output_type": "display_data",
          "data": {
            "text/plain": [
              "<Figure size 1000x700 with 2 Axes>"
            ],
            "image/png": "[encoded data removed]"
          },
          "metadata": {}
        }
      ]
    },
    {
      "cell_type": "code",
      "source": [
        "reporteClasificacion(y_test,y_pred)"
      ],
      "metadata": {
        "colab": {
          "base_uri": "https://localhost:8080/"
        },
        "id": "EwN3fb4_3ZX-",
        "outputId": "f621c161-0df1-4ee6-8629-4f3e2e178de2"
      },
      "execution_count": null,
      "outputs": [
        {
          "output_type": "stream",
          "name": "stdout",
          "text": [
            "Reporte de clasificación:\n",
            "              precision    recall  f1-score   support\n",
            "\n",
            "           0       0.59      0.72      0.65       105\n",
            "           1       0.43      0.29      0.35        75\n",
            "\n",
            "    accuracy                           0.54       180\n",
            "   macro avg       0.51      0.51      0.50       180\n",
            "weighted avg       0.52      0.54      0.52       180\n",
            "\n",
            "\n",
            "\n"
          ]
        }
      ]
    },
    {
      "cell_type": "code",
      "source": [
        "y_pred = classifier.predict(X_test)\n",
        "\n",
        "precision = accuracy_score(y_test, y_pred)\n",
        "\n",
        "# Imprimimos la precisión\n",
        "print(f'La precisión del modelo es: {precision * 100:.2f}%')"
      ],
      "metadata": {
        "colab": {
          "base_uri": "https://localhost:8080/"
        },
        "id": "d1coSoRW4g8Z",
        "outputId": "91176d3c-1e0d-465c-dc06-054ce38316e2"
      },
      "execution_count": null,
      "outputs": [
        {
          "output_type": "stream",
          "name": "stdout",
          "text": [
            "La precisión del modelo es: 54.44%\n"
          ]
        }
      ]
    },
    {
      "cell_type": "code",
      "source": [
        "print(generar_reporte_parrafo(y_test, y_pred))"
      ],
      "metadata": {
        "colab": {
          "base_uri": "https://localhost:8080/"
        },
        "id": "UAjfHqO_4kmF",
        "outputId": "6eb73c37-c054-48f0-e217-c41b8d7da371"
      },
      "execution_count": null,
      "outputs": [
        {
          "output_type": "stream",
          "name": "stdout",
          "text": [
            "Reporte de clasificación:\n",
            "\n",
            "Explicación de métricas:\n",
            "- Precision: La proporción de observaciones positivas correctas respecto a las predicciones positivas totales.\n",
            "- Recall: La proporción de observaciones positivas correctas respecto a todas las observaciones de la clase.\n",
            "- F1-Score: Una medida ponderada de la precisión y el recall, donde el mejor valor es 1 y el peor es 0.\n",
            "- Support: El número de ocurrencias de cada clase en los datos de prueba.\n",
            "\n",
            "Clase 0:\n",
            "- precision: 0.59\n",
            "- recall: 0.72\n",
            "- f1-score: 0.65\n",
            "- support: 105.00\n",
            "\n",
            "Clase 1:\n",
            "- precision: 0.43\n",
            "- recall: 0.29\n",
            "- f1-score: 0.35\n",
            "- support: 75.00\n"
          ]
        }
      ]
    },
    {
      "cell_type": "markdown",
      "source": [
        "# BAYES NAIVES"
      ],
      "metadata": {
        "id": "obSbu17B4otO"
      }
    },
    {
      "cell_type": "code",
      "source": [
        "columnas_seleccionadas = ['Edad', 'MCA2','Colesterol']\n",
        "\n",
        "NAIVES_df = df_all[columnas_seleccionadas]"
      ],
      "metadata": {
        "id": "11glnRel4rOL"
      },
      "execution_count": null,
      "outputs": []
    },
    {
      "cell_type": "code",
      "source": [
        "NAIVES_df.head()"
      ],
      "metadata": {
        "colab": {
          "base_uri": "https://localhost:8080/",
          "height": 206
        },
        "id": "KJfn6uSd42e0",
        "outputId": "ef325c80-c344-4162-ec05-e7c2f7c474be"
      },
      "execution_count": null,
      "outputs": [
        {
          "output_type": "execute_result",
          "data": {
            "text/plain": [
              "   Edad      MCA2  Colesterol\n",
              "0    23 -0.079531           0\n",
              "1    47  1.826988           0\n",
              "2    47  1.826988           0\n",
              "3    28 -0.963152           0\n",
              "4    61  0.496561           0"
            ],
            "text/html": [
              "\n",
              "  <div id=\"df-26d199e5-e7ec-44d4-99b9-8a703ec57a30\" class=\"colab-df-container\">\n",
              "    <div>\n",
              "<style scoped>\n",
              "    .dataframe tbody tr th:only-of-type {\n",
              "        vertical-align: middle;\n",
              "    }\n",
              "\n",
              "    .dataframe tbody tr th {\n",
              "        vertical-align: top;\n",
              "    }\n",
              "\n",
              "    .dataframe thead th {\n",
              "        text-align: right;\n",
              "    }\n",
              "</style>\n",
              "<table border=\"1\" class=\"dataframe\">\n",
              "  <thead>\n",
              "    <tr style=\"text-align: right;\">\n",
              "      <th></th>\n",
              "      <th>Edad</th>\n",
              "      <th>MCA2</th>\n",
              "      <th>Colesterol</th>\n",
              "    </tr>\n",
              "  </thead>\n",
              "  <tbody>\n",
              "    <tr>\n",
              "      <th>0</th>\n",
              "      <td>23</td>\n",
              "      <td>-0.079531</td>\n",
              "      <td>0</td>\n",
              "    </tr>\n",
              "    <tr>\n",
              "      <th>1</th>\n",
              "      <td>47</td>\n",
              "      <td>1.826988</td>\n",
              "      <td>0</td>\n",
              "    </tr>\n",
              "    <tr>\n",
              "      <th>2</th>\n",
              "      <td>47</td>\n",
              "      <td>1.826988</td>\n",
              "      <td>0</td>\n",
              "    </tr>\n",
              "    <tr>\n",
              "      <th>3</th>\n",
              "      <td>28</td>\n",
              "      <td>-0.963152</td>\n",
              "      <td>0</td>\n",
              "    </tr>\n",
              "    <tr>\n",
              "      <th>4</th>\n",
              "      <td>61</td>\n",
              "      <td>0.496561</td>\n",
              "      <td>0</td>\n",
              "    </tr>\n",
              "  </tbody>\n",
              "</table>\n",
              "</div>\n",
              "    <div class=\"colab-df-buttons\">\n",
              "\n",
              "  <div class=\"colab-df-container\">\n",
              "    <button class=\"colab-df-convert\" onclick=\"convertToInteractive('df-26d199e5-e7ec-44d4-99b9-8a703ec57a30')\"\n",
              "            title=\"Convert this dataframe to an interactive table.\"\n",
              "            style=\"display:none;\">\n",
              "\n",
              "  <svg xmlns=\"http://www.w3.org/2000/svg\" height=\"24px\" viewBox=\"0 -960 960 960\">\n",
              "    <path d=\"M120-120v-720h720v720H120Zm60-500h600v-160H180v160Zm220 220h160v-160H400v160Zm0 220h160v-160H400v160ZM180-400h160v-160H180v160Zm440 0h160v-160H620v160ZM180-180h160v-160H180v160Zm440 0h160v-160H620v160Z\"/>\n",
              "  </svg>\n",
              "    </button>\n",
              "\n",
              "  <style>\n",
              "    .colab-df-container {\n",
              "      display:flex;\n",
              "      gap: 12px;\n",
              "    }\n",
              "\n",
              "    .colab-df-convert {\n",
              "      background-color: #E8F0FE;\n",
              "      border: none;\n",
              "      border-radius: 50%;\n",
              "      cursor: pointer;\n",
              "      display: none;\n",
              "      fill: #1967D2;\n",
              "      height: 32px;\n",
              "      padding: 0 0 0 0;\n",
              "      width: 32px;\n",
              "    }\n",
              "\n",
              "    .colab-df-convert:hover {\n",
              "      background-color: #E2EBFA;\n",
              "      box-shadow: 0px 1px 2px rgba(60, 64, 67, 0.3), 0px 1px 3px 1px rgba(60, 64, 67, 0.15);\n",
              "      fill: #174EA6;\n",
              "    }\n",
              "\n",
              "    .colab-df-buttons div {\n",
              "      margin-bottom: 4px;\n",
              "    }\n",
              "\n",
              "    [theme=dark] .colab-df-convert {\n",
              "      background-color: #3B4455;\n",
              "      fill: #D2E3FC;\n",
              "    }\n",
              "\n",
              "    [theme=dark] .colab-df-convert:hover {\n",
              "      background-color: #434B5C;\n",
              "      box-shadow: 0px 1px 3px 1px rgba(0, 0, 0, 0.15);\n",
              "      filter: drop-shadow(0px 1px 2px rgba(0, 0, 0, 0.3));\n",
              "      fill: #FFFFFF;\n",
              "    }\n",
              "  </style>\n",
              "\n",
              "    <script>\n",
              "      const buttonEl =\n",
              "        document.querySelector('#df-26d199e5-e7ec-44d4-99b9-8a703ec57a30 button.colab-df-convert');\n",
              "      buttonEl.style.display =\n",
              "        google.colab.kernel.accessAllowed ? 'block' : 'none';\n",
              "\n",
              "      async function convertToInteractive(key) {\n",
              "        const element = document.querySelector('#df-26d199e5-e7ec-44d4-99b9-8a703ec57a30');\n",
              "        const dataTable =\n",
              "          await google.colab.kernel.invokeFunction('convertToInteractive',\n",
              "                                                    [key], {});\n",
              "        if (!dataTable) return;\n",
              "\n",
              "        const docLinkHtml = 'Like what you see? Visit the ' +\n",
              "          '<a target=\"_blank\" href=https://colab.research.google.com/notebooks/data_table.ipynb>data table notebook</a>'\n",
              "          + ' to learn more about interactive tables.';\n",
              "        element.innerHTML = '';\n",
              "        dataTable['output_type'] = 'display_data';\n",
              "        await google.colab.output.renderOutput(dataTable, element);\n",
              "        const docLink = document.createElement('div');\n",
              "        docLink.innerHTML = docLinkHtml;\n",
              "        element.appendChild(docLink);\n",
              "      }\n",
              "    </script>\n",
              "  </div>\n",
              "\n",
              "\n",
              "<div id=\"df-1d76a657-9687-4265-96fb-c896e27a39cc\">\n",
              "  <button class=\"colab-df-quickchart\" onclick=\"quickchart('df-1d76a657-9687-4265-96fb-c896e27a39cc')\"\n",
              "            title=\"Suggest charts\"\n",
              "            style=\"display:none;\">\n",
              "\n",
              "<svg xmlns=\"http://www.w3.org/2000/svg\" height=\"24px\"viewBox=\"0 0 24 24\"\n",
              "     width=\"24px\">\n",
              "    <g>\n",
              "        <path d=\"M19 3H5c-1.1 0-2 .9-2 2v14c0 1.1.9 2 2 2h14c1.1 0 2-.9 2-2V5c0-1.1-.9-2-2-2zM9 17H7v-7h2v7zm4 0h-2V7h2v10zm4 0h-2v-4h2v4z\"/>\n",
              "    </g>\n",
              "</svg>\n",
              "  </button>\n",
              "\n",
              "<style>\n",
              "  .colab-df-quickchart {\n",
              "      --bg-color: #E8F0FE;\n",
              "      --fill-color: #1967D2;\n",
              "      --hover-bg-color: #E2EBFA;\n",
              "      --hover-fill-color: #174EA6;\n",
              "      --disabled-fill-color: #AAA;\n",
              "      --disabled-bg-color: #DDD;\n",
              "  }\n",
              "\n",
              "  [theme=dark] .colab-df-quickchart {\n",
              "      --bg-color: #3B4455;\n",
              "      --fill-color: #D2E3FC;\n",
              "      --hover-bg-color: #434B5C;\n",
              "      --hover-fill-color: #FFFFFF;\n",
              "      --disabled-bg-color: #3B4455;\n",
              "      --disabled-fill-color: #666;\n",
              "  }\n",
              "\n",
              "  .colab-df-quickchart {\n",
              "    background-color: var(--bg-color);\n",
              "    border: none;\n",
              "    border-radius: 50%;\n",
              "    cursor: pointer;\n",
              "    display: none;\n",
              "    fill: var(--fill-color);\n",
              "    height: 32px;\n",
              "    padding: 0;\n",
              "    width: 32px;\n",
              "  }\n",
              "\n",
              "  .colab-df-quickchart:hover {\n",
              "    background-color: var(--hover-bg-color);\n",
              "    box-shadow: 0 1px 2px rgba(60, 64, 67, 0.3), 0 1px 3px 1px rgba(60, 64, 67, 0.15);\n",
              "    fill: var(--button-hover-fill-color);\n",
              "  }\n",
              "\n",
              "  .colab-df-quickchart-complete:disabled,\n",
              "  .colab-df-quickchart-complete:disabled:hover {\n",
              "    background-color: var(--disabled-bg-color);\n",
              "    fill: var(--disabled-fill-color);\n",
              "    box-shadow: none;\n",
              "  }\n",
              "\n",
              "  .colab-df-spinner {\n",
              "    border: 2px solid var(--fill-color);\n",
              "    border-color: transparent;\n",
              "    border-bottom-color: var(--fill-color);\n",
              "    animation:\n",
              "      spin 1s steps(1) infinite;\n",
              "  }\n",
              "\n",
              "  @keyframes spin {\n",
              "    0% {\n",
              "      border-color: transparent;\n",
              "      border-bottom-color: var(--fill-color);\n",
              "      border-left-color: var(--fill-color);\n",
              "    }\n",
              "    20% {\n",
              "      border-color: transparent;\n",
              "      border-left-color: var(--fill-color);\n",
              "      border-top-color: var(--fill-color);\n",
              "    }\n",
              "    30% {\n",
              "      border-color: transparent;\n",
              "      border-left-color: var(--fill-color);\n",
              "      border-top-color: var(--fill-color);\n",
              "      border-right-color: var(--fill-color);\n",
              "    }\n",
              "    40% {\n",
              "      border-color: transparent;\n",
              "      border-right-color: var(--fill-color);\n",
              "      border-top-color: var(--fill-color);\n",
              "    }\n",
              "    60% {\n",
              "      border-color: transparent;\n",
              "      border-right-color: var(--fill-color);\n",
              "    }\n",
              "    80% {\n",
              "      border-color: transparent;\n",
              "      border-right-color: var(--fill-color);\n",
              "      border-bottom-color: var(--fill-color);\n",
              "    }\n",
              "    90% {\n",
              "      border-color: transparent;\n",
              "      border-bottom-color: var(--fill-color);\n",
              "    }\n",
              "  }\n",
              "</style>\n",
              "\n",
              "  <script>\n",
              "    async function quickchart(key) {\n",
              "      const quickchartButtonEl =\n",
              "        document.querySelector('#' + key + ' button');\n",
              "      quickchartButtonEl.disabled = true;  // To prevent multiple clicks.\n",
              "      quickchartButtonEl.classList.add('colab-df-spinner');\n",
              "      try {\n",
              "        const charts = await google.colab.kernel.invokeFunction(\n",
              "            'suggestCharts', [key], {});\n",
              "      } catch (error) {\n",
              "        console.error('Error during call to suggestCharts:', error);\n",
              "      }\n",
              "      quickchartButtonEl.classList.remove('colab-df-spinner');\n",
              "      quickchartButtonEl.classList.add('colab-df-quickchart-complete');\n",
              "    }\n",
              "    (() => {\n",
              "      let quickchartButtonEl =\n",
              "        document.querySelector('#df-1d76a657-9687-4265-96fb-c896e27a39cc button');\n",
              "      quickchartButtonEl.style.display =\n",
              "        google.colab.kernel.accessAllowed ? 'block' : 'none';\n",
              "    })();\n",
              "  </script>\n",
              "</div>\n",
              "\n",
              "    </div>\n",
              "  </div>\n"
            ],
            "application/vnd.google.colaboratory.intrinsic+json": {
              "type": "dataframe",
              "variable_name": "NAIVES_df",
              "summary": "{\n  \"name\": \"NAIVES_df\",\n  \"rows\": 200,\n  \"fields\": [\n    {\n      \"column\": \"Edad\",\n      \"properties\": {\n        \"dtype\": \"number\",\n        \"std\": 16,\n        \"min\": 15,\n        \"max\": 74,\n        \"num_unique_values\": 57,\n        \"samples\": [\n          23,\n          49,\n          37\n        ],\n        \"semantic_type\": \"\",\n        \"description\": \"\"\n      }\n    },\n    {\n      \"column\": \"MCA2\",\n      \"properties\": {\n        \"dtype\": \"number\",\n        \"std\": 0.6928061779182635,\n        \"min\": -0.9631518710773539,\n        \"max\": 1.8269880768817885,\n        \"num_unique_values\": 16,\n        \"samples\": [\n          -0.07953131600454254,\n          1.8269880768817885,\n          -0.39173073214013115\n        ],\n        \"semantic_type\": \"\",\n        \"description\": \"\"\n      }\n    },\n    {\n      \"column\": \"Colesterol\",\n      \"properties\": {\n        \"dtype\": \"number\",\n        \"std\": 0,\n        \"min\": 0,\n        \"max\": 1,\n        \"num_unique_values\": 2,\n        \"samples\": [\n          1,\n          0\n        ],\n        \"semantic_type\": \"\",\n        \"description\": \"\"\n      }\n    }\n  ]\n}"
            }
          },
          "metadata": {},
          "execution_count": 371
        }
      ]
    },
    {
      "cell_type": "code",
      "source": [
        "XNAIVES,ynaives = splitData(NAIVES_df, 'Colesterol')"
      ],
      "metadata": {
        "id": "MlcoERhb4_ex"
      },
      "execution_count": null,
      "outputs": []
    },
    {
      "cell_type": "code",
      "source": [
        "# Dividir los datos en conjuntos de entrenamiento y prueba\n",
        "X_train1, X_test1, y_train1, y_test1 = train_test_split(XNAIVES, ynaives, test_size=0.3, random_state=1234)\n",
        "\n",
        "# Normalizar los datos\n",
        "scaler = MinMaxScaler()\n",
        "X_train_normalized = scaler.fit_transform(X_train1)\n",
        "X_test_normalized = scaler.transform(X_test1)\n",
        "\n",
        "# Verificar el balance de las clases\n",
        "unique, counts = np.unique(y_train1, return_counts=True)\n",
        "print(dict(zip(unique, counts)))\n",
        "\n",
        "# Si las clases no están balanceadas, aplicar SMOTE\n",
        "if counts[0] != counts[1]:\n",
        "    smote = SMOTE(random_state=1234)\n",
        "    X_train_smote, y_train_smote = smote.fit_resample(X_train_normalized, y_train1)\n",
        "else:\n",
        "    X_train_smote, y_train_smote = X_train_normalized, y_train1\n",
        "\n",
        "# Definir el modelo y los parámetros a probar\n",
        "naive = GaussianNB()\n",
        "param_grid = {'var_smoothing': np.logspace(0,-9, num=100)}\n",
        "\n",
        "# Crear y ajustar el GridSearchCV\n",
        "grid = GridSearchCV(naive, param_grid, cv=5)\n",
        "grid.fit(X_train_smote, y_train_smote)\n",
        "\n",
        "# Entrenar el modelo con el mejor parámetro\n",
        "naive = GaussianNB(var_smoothing=grid.best_params_['var_smoothing'])\n",
        "naive.fit(X_train_smote, y_train_smote)\n",
        "\n",
        "# Hacer predicciones con los datos de prueba\n",
        "y_pred1 = naive.predict(X_test_normalized)\n",
        "\n",
        "# Calcular la precisión\n",
        "precision = accuracy_score(y_test1, y_pred1)\n",
        "\n",
        "# Imprimir la precisión\n",
        "print(f'La precisión del modelo con datos normalizados y SMOTE es: {precision * 100:.2f}%')"
      ],
      "metadata": {
        "colab": {
          "base_uri": "https://localhost:8080/"
        },
        "id": "nkQo7GGO5Y3D",
        "outputId": "84fe5391-6c78-4923-e403-e38969b68e45"
      },
      "execution_count": null,
      "outputs": [
        {
          "output_type": "stream",
          "name": "stdout",
          "text": [
            "{0: 74, 1: 66}\n",
            "La precisión del modelo con datos normalizados y SMOTE es: 60.00%\n"
          ]
        }
      ]
    },
    {
      "cell_type": "markdown",
      "source": [
        "# Redes Neuronales"
      ],
      "metadata": {
        "id": "zFjbxrGf5d4E"
      }
    },
    {
      "cell_type": "code",
      "source": [
        "X_train, X_test, y_train_redes, y_test_redes = trainTest(X, y, 0.2, 1234)\n",
        "sc = StandardScaler()\n",
        "X_train_redes = sc.fit_transform(X_train)\n",
        "X_test_redes = sc.transform(X_test)"
      ],
      "metadata": {
        "id": "1ShPmpIh5hDr"
      },
      "execution_count": null,
      "outputs": []
    },
    {
      "cell_type": "code",
      "source": [
        "model = Sequential()\n",
        "\n",
        "# Asegúrate de que el número de características en tus datos de entrada coincida con lo que tu modelo espera\n",
        "model.add(Dense(units = 8, kernel_initializer = 'uniform', activation = 'relu', input_dim = X_train_redes.shape[1]))\n",
        "\n",
        "model.add(Dense(units = 4, kernel_initializer = 'uniform', activation = 'sigmoid'))\n",
        "\n",
        "model.add(Dense(units = 1, kernel_initializer = 'uniform', activation = 'sigmoid'))\n",
        "\n",
        "model.compile(optimizer = 'adam', loss = 'binary_crossentropy', metrics = ['accuracy'])\n",
        "\n",
        "model.fit(X_train_redes, y_train_redes, batch_size = 32, epochs = 200)"
      ],
      "metadata": {
        "colab": {
          "base_uri": "https://localhost:8080/"
        },
        "id": "IThRykjM5ja6",
        "outputId": "cb6a5493-7c53-48b9-db28-d0e73762333e"
      },
      "execution_count": null,
      "outputs": [
        {
          "output_type": "stream",
          "name": "stdout",
          "text": [
            "Epoch 1/200\n",
            "45/45 [==============================] - 1s 3ms/step - loss: 0.6927 - accuracy: 0.5132\n",
            "Epoch 2/200\n",
            "45/45 [==============================] - 0s 3ms/step - loss: 0.6896 - accuracy: 0.5576\n",
            "Epoch 3/200\n",
            "45/45 [==============================] - 0s 3ms/step - loss: 0.6881 - accuracy: 0.5576\n",
            "Epoch 4/200\n",
            "45/45 [==============================] - 0s 3ms/step - loss: 0.6866 - accuracy: 0.5576\n",
            "Epoch 5/200\n",
            "45/45 [==============================] - 0s 6ms/step - loss: 0.6855 - accuracy: 0.5576\n",
            "Epoch 6/200\n",
            "45/45 [==============================] - 0s 6ms/step - loss: 0.6843 - accuracy: 0.5576\n",
            "Epoch 7/200\n",
            "45/45 [==============================] - 0s 4ms/step - loss: 0.6829 - accuracy: 0.5576\n",
            "Epoch 8/200\n",
            "45/45 [==============================] - 0s 5ms/step - loss: 0.6816 - accuracy: 0.5576\n",
            "Epoch 9/200\n",
            "45/45 [==============================] - 0s 7ms/step - loss: 0.6802 - accuracy: 0.5576\n",
            "Epoch 10/200\n",
            "45/45 [==============================] - 0s 4ms/step - loss: 0.6785 - accuracy: 0.5576\n",
            "Epoch 11/200\n",
            "45/45 [==============================] - 0s 6ms/step - loss: 0.6764 - accuracy: 0.5576\n",
            "Epoch 12/200\n",
            "45/45 [==============================] - 0s 7ms/step - loss: 0.6741 - accuracy: 0.5576\n",
            "Epoch 13/200\n",
            "45/45 [==============================] - 0s 8ms/step - loss: 0.6715 - accuracy: 0.5576\n",
            "Epoch 14/200\n",
            "45/45 [==============================] - 0s 7ms/step - loss: 0.6683 - accuracy: 0.5576\n",
            "Epoch 15/200\n",
            "45/45 [==============================] - 0s 7ms/step - loss: 0.6650 - accuracy: 0.5576\n",
            "Epoch 16/200\n",
            "45/45 [==============================] - 0s 8ms/step - loss: 0.6615 - accuracy: 0.5576\n",
            "Epoch 17/200\n",
            "45/45 [==============================] - 0s 3ms/step - loss: 0.6579 - accuracy: 0.5569\n",
            "Epoch 18/200\n",
            "45/45 [==============================] - 0s 4ms/step - loss: 0.6541 - accuracy: 0.5549\n",
            "Epoch 19/200\n",
            "45/45 [==============================] - 0s 6ms/step - loss: 0.6504 - accuracy: 0.5590\n",
            "Epoch 20/200\n",
            "45/45 [==============================] - 0s 4ms/step - loss: 0.6463 - accuracy: 0.5583\n",
            "Epoch 21/200\n",
            "45/45 [==============================] - 0s 5ms/step - loss: 0.6423 - accuracy: 0.5688\n",
            "Epoch 22/200\n",
            "45/45 [==============================] - 0s 5ms/step - loss: 0.6383 - accuracy: 0.5806\n",
            "Epoch 23/200\n",
            "45/45 [==============================] - 0s 5ms/step - loss: 0.6340 - accuracy: 0.5951\n",
            "Epoch 24/200\n",
            "45/45 [==============================] - 0s 4ms/step - loss: 0.6299 - accuracy: 0.6090\n",
            "Epoch 25/200\n",
            "45/45 [==============================] - 0s 3ms/step - loss: 0.6257 - accuracy: 0.6229\n",
            "Epoch 26/200\n",
            "45/45 [==============================] - 0s 4ms/step - loss: 0.6216 - accuracy: 0.6375\n",
            "Epoch 27/200\n",
            "45/45 [==============================] - 0s 4ms/step - loss: 0.6177 - accuracy: 0.6486\n",
            "Epoch 28/200\n",
            "45/45 [==============================] - 0s 4ms/step - loss: 0.6140 - accuracy: 0.6562\n",
            "Epoch 29/200\n",
            "45/45 [==============================] - 0s 4ms/step - loss: 0.6102 - accuracy: 0.6667\n",
            "Epoch 30/200\n",
            "45/45 [==============================] - 0s 4ms/step - loss: 0.6067 - accuracy: 0.6653\n",
            "Epoch 31/200\n",
            "45/45 [==============================] - 0s 8ms/step - loss: 0.6033 - accuracy: 0.6674\n",
            "Epoch 32/200\n",
            "45/45 [==============================] - 0s 5ms/step - loss: 0.6000 - accuracy: 0.6757\n",
            "Epoch 33/200\n",
            "45/45 [==============================] - 0s 6ms/step - loss: 0.5970 - accuracy: 0.6840\n",
            "Epoch 34/200\n",
            "45/45 [==============================] - 0s 4ms/step - loss: 0.5942 - accuracy: 0.6903\n",
            "Epoch 35/200\n",
            "45/45 [==============================] - 0s 4ms/step - loss: 0.5912 - accuracy: 0.6924\n",
            "Epoch 36/200\n",
            "45/45 [==============================] - 0s 5ms/step - loss: 0.5887 - accuracy: 0.6972\n",
            "Epoch 37/200\n",
            "45/45 [==============================] - 0s 4ms/step - loss: 0.5863 - accuracy: 0.6979\n",
            "Epoch 38/200\n",
            "45/45 [==============================] - 0s 4ms/step - loss: 0.5838 - accuracy: 0.7000\n",
            "Epoch 39/200\n",
            "45/45 [==============================] - 0s 7ms/step - loss: 0.5816 - accuracy: 0.7042\n",
            "Epoch 40/200\n",
            "45/45 [==============================] - 0s 5ms/step - loss: 0.5796 - accuracy: 0.7104\n",
            "Epoch 41/200\n",
            "45/45 [==============================] - 0s 4ms/step - loss: 0.5776 - accuracy: 0.7063\n",
            "Epoch 42/200\n",
            "45/45 [==============================] - 0s 5ms/step - loss: 0.5754 - accuracy: 0.7125\n",
            "Epoch 43/200\n",
            "45/45 [==============================] - 0s 3ms/step - loss: 0.5736 - accuracy: 0.7139\n",
            "Epoch 44/200\n",
            "45/45 [==============================] - 0s 2ms/step - loss: 0.5719 - accuracy: 0.7181\n",
            "Epoch 45/200\n",
            "45/45 [==============================] - 0s 3ms/step - loss: 0.5703 - accuracy: 0.7188\n",
            "Epoch 46/200\n",
            "45/45 [==============================] - 0s 3ms/step - loss: 0.5685 - accuracy: 0.7139\n",
            "Epoch 47/200\n",
            "45/45 [==============================] - 0s 3ms/step - loss: 0.5671 - accuracy: 0.7139\n",
            "Epoch 48/200\n",
            "45/45 [==============================] - 0s 4ms/step - loss: 0.5656 - accuracy: 0.7153\n",
            "Epoch 49/200\n",
            "45/45 [==============================] - 0s 3ms/step - loss: 0.5641 - accuracy: 0.7208\n",
            "Epoch 50/200\n",
            "45/45 [==============================] - 0s 3ms/step - loss: 0.5629 - accuracy: 0.7215\n",
            "Epoch 51/200\n",
            "45/45 [==============================] - 0s 3ms/step - loss: 0.5616 - accuracy: 0.7257\n",
            "Epoch 52/200\n",
            "45/45 [==============================] - 0s 3ms/step - loss: 0.5605 - accuracy: 0.7229\n",
            "Epoch 53/200\n",
            "45/45 [==============================] - 0s 6ms/step - loss: 0.5594 - accuracy: 0.7250\n",
            "Epoch 54/200\n",
            "45/45 [==============================] - 0s 4ms/step - loss: 0.5582 - accuracy: 0.7257\n",
            "Epoch 55/200\n",
            "45/45 [==============================] - 0s 3ms/step - loss: 0.5576 - accuracy: 0.7271\n",
            "Epoch 56/200\n",
            "45/45 [==============================] - 0s 3ms/step - loss: 0.5561 - accuracy: 0.7278\n",
            "Epoch 57/200\n",
            "45/45 [==============================] - 0s 5ms/step - loss: 0.5557 - accuracy: 0.7257\n",
            "Epoch 58/200\n",
            "45/45 [==============================] - 0s 4ms/step - loss: 0.5548 - accuracy: 0.7271\n",
            "Epoch 59/200\n",
            "45/45 [==============================] - 0s 3ms/step - loss: 0.5538 - accuracy: 0.7229\n",
            "Epoch 60/200\n",
            "45/45 [==============================] - 0s 6ms/step - loss: 0.5529 - accuracy: 0.7257\n",
            "Epoch 61/200\n",
            "45/45 [==============================] - 0s 4ms/step - loss: 0.5522 - accuracy: 0.7243\n",
            "Epoch 62/200\n",
            "45/45 [==============================] - 0s 6ms/step - loss: 0.5516 - accuracy: 0.7271\n",
            "Epoch 63/200\n",
            "45/45 [==============================] - 0s 4ms/step - loss: 0.5506 - accuracy: 0.7243\n",
            "Epoch 64/200\n",
            "45/45 [==============================] - 0s 3ms/step - loss: 0.5503 - accuracy: 0.7271\n",
            "Epoch 65/200\n",
            "45/45 [==============================] - 0s 5ms/step - loss: 0.5495 - accuracy: 0.7278\n",
            "Epoch 66/200\n",
            "45/45 [==============================] - 0s 4ms/step - loss: 0.5493 - accuracy: 0.7250\n",
            "Epoch 67/200\n",
            "45/45 [==============================] - 0s 6ms/step - loss: 0.5481 - accuracy: 0.7292\n",
            "Epoch 68/200\n",
            "45/45 [==============================] - 0s 3ms/step - loss: 0.5476 - accuracy: 0.7271\n",
            "Epoch 69/200\n",
            "45/45 [==============================] - 0s 4ms/step - loss: 0.5470 - accuracy: 0.7292\n",
            "Epoch 70/200\n",
            "45/45 [==============================] - 0s 4ms/step - loss: 0.5464 - accuracy: 0.7285\n",
            "Epoch 71/200\n",
            "45/45 [==============================] - 0s 3ms/step - loss: 0.5462 - accuracy: 0.7285\n",
            "Epoch 72/200\n",
            "45/45 [==============================] - 0s 7ms/step - loss: 0.5452 - accuracy: 0.7278\n",
            "Epoch 73/200\n",
            "45/45 [==============================] - 0s 7ms/step - loss: 0.5451 - accuracy: 0.7299\n",
            "Epoch 74/200\n",
            "45/45 [==============================] - 0s 8ms/step - loss: 0.5445 - accuracy: 0.7354\n",
            "Epoch 75/200\n",
            "45/45 [==============================] - 0s 8ms/step - loss: 0.5441 - accuracy: 0.7312\n",
            "Epoch 76/200\n",
            "45/45 [==============================] - 0s 6ms/step - loss: 0.5436 - accuracy: 0.7326\n",
            "Epoch 77/200\n",
            "45/45 [==============================] - 0s 6ms/step - loss: 0.5433 - accuracy: 0.7368\n",
            "Epoch 78/200\n",
            "45/45 [==============================] - 0s 6ms/step - loss: 0.5429 - accuracy: 0.7326\n",
            "Epoch 79/200\n",
            "45/45 [==============================] - 0s 5ms/step - loss: 0.5424 - accuracy: 0.7361\n",
            "Epoch 80/200\n",
            "45/45 [==============================] - 0s 6ms/step - loss: 0.5422 - accuracy: 0.7333\n",
            "Epoch 81/200\n",
            "45/45 [==============================] - 0s 9ms/step - loss: 0.5419 - accuracy: 0.7354\n",
            "Epoch 82/200\n",
            "45/45 [==============================] - 0s 7ms/step - loss: 0.5416 - accuracy: 0.7361\n",
            "Epoch 83/200\n",
            "45/45 [==============================] - 0s 6ms/step - loss: 0.5410 - accuracy: 0.7403\n",
            "Epoch 84/200\n",
            "45/45 [==============================] - 0s 7ms/step - loss: 0.5407 - accuracy: 0.7375\n",
            "Epoch 85/200\n",
            "45/45 [==============================] - 0s 6ms/step - loss: 0.5402 - accuracy: 0.7396\n",
            "Epoch 86/200\n",
            "45/45 [==============================] - 0s 5ms/step - loss: 0.5399 - accuracy: 0.7382\n",
            "Epoch 87/200\n",
            "45/45 [==============================] - 0s 3ms/step - loss: 0.5397 - accuracy: 0.7403\n",
            "Epoch 88/200\n",
            "45/45 [==============================] - 0s 3ms/step - loss: 0.5395 - accuracy: 0.7403\n",
            "Epoch 89/200\n",
            "45/45 [==============================] - 0s 3ms/step - loss: 0.5390 - accuracy: 0.7403\n",
            "Epoch 90/200\n",
            "45/45 [==============================] - 0s 3ms/step - loss: 0.5395 - accuracy: 0.7361\n",
            "Epoch 91/200\n",
            "45/45 [==============================] - 0s 4ms/step - loss: 0.5387 - accuracy: 0.7389\n",
            "Epoch 92/200\n",
            "45/45 [==============================] - 0s 3ms/step - loss: 0.5383 - accuracy: 0.7368\n",
            "Epoch 93/200\n",
            "45/45 [==============================] - 0s 3ms/step - loss: 0.5378 - accuracy: 0.7410\n",
            "Epoch 94/200\n",
            "45/45 [==============================] - 0s 3ms/step - loss: 0.5379 - accuracy: 0.7396\n",
            "Epoch 95/200\n",
            "45/45 [==============================] - 0s 3ms/step - loss: 0.5376 - accuracy: 0.7389\n",
            "Epoch 96/200\n",
            "45/45 [==============================] - 0s 4ms/step - loss: 0.5373 - accuracy: 0.7396\n",
            "Epoch 97/200\n",
            "45/45 [==============================] - 0s 6ms/step - loss: 0.5371 - accuracy: 0.7424\n",
            "Epoch 98/200\n",
            "45/45 [==============================] - 0s 4ms/step - loss: 0.5366 - accuracy: 0.7437\n",
            "Epoch 99/200\n",
            "45/45 [==============================] - 0s 7ms/step - loss: 0.5366 - accuracy: 0.7410\n",
            "Epoch 100/200\n",
            "45/45 [==============================] - 0s 5ms/step - loss: 0.5363 - accuracy: 0.7410\n",
            "Epoch 101/200\n",
            "45/45 [==============================] - 0s 4ms/step - loss: 0.5359 - accuracy: 0.7444\n",
            "Epoch 102/200\n",
            "45/45 [==============================] - 0s 5ms/step - loss: 0.5360 - accuracy: 0.7431\n",
            "Epoch 103/200\n",
            "45/45 [==============================] - 0s 6ms/step - loss: 0.5355 - accuracy: 0.7417\n",
            "Epoch 104/200\n",
            "45/45 [==============================] - 0s 4ms/step - loss: 0.5353 - accuracy: 0.7451\n",
            "Epoch 105/200\n",
            "45/45 [==============================] - 0s 7ms/step - loss: 0.5352 - accuracy: 0.7410\n",
            "Epoch 106/200\n",
            "45/45 [==============================] - 0s 4ms/step - loss: 0.5352 - accuracy: 0.7451\n",
            "Epoch 107/200\n",
            "45/45 [==============================] - 0s 4ms/step - loss: 0.5346 - accuracy: 0.7396\n",
            "Epoch 108/200\n",
            "45/45 [==============================] - 0s 3ms/step - loss: 0.5344 - accuracy: 0.7396\n",
            "Epoch 109/200\n",
            "45/45 [==============================] - 0s 4ms/step - loss: 0.5341 - accuracy: 0.7410\n",
            "Epoch 110/200\n",
            "45/45 [==============================] - 0s 3ms/step - loss: 0.5340 - accuracy: 0.7389\n",
            "Epoch 111/200\n",
            "45/45 [==============================] - 0s 5ms/step - loss: 0.5339 - accuracy: 0.7417\n",
            "Epoch 112/200\n",
            "45/45 [==============================] - 0s 7ms/step - loss: 0.5338 - accuracy: 0.7403\n",
            "Epoch 113/200\n",
            "45/45 [==============================] - 0s 7ms/step - loss: 0.5336 - accuracy: 0.7424\n",
            "Epoch 114/200\n",
            "45/45 [==============================] - 0s 3ms/step - loss: 0.5331 - accuracy: 0.7424\n",
            "Epoch 115/200\n",
            "45/45 [==============================] - 0s 4ms/step - loss: 0.5328 - accuracy: 0.7424\n",
            "Epoch 116/200\n",
            "45/45 [==============================] - 0s 4ms/step - loss: 0.5327 - accuracy: 0.7403\n",
            "Epoch 117/200\n",
            "45/45 [==============================] - 0s 4ms/step - loss: 0.5326 - accuracy: 0.7437\n",
            "Epoch 118/200\n",
            "45/45 [==============================] - 0s 6ms/step - loss: 0.5321 - accuracy: 0.7417\n",
            "Epoch 119/200\n",
            "45/45 [==============================] - 0s 4ms/step - loss: 0.5317 - accuracy: 0.7444\n",
            "Epoch 120/200\n",
            "45/45 [==============================] - 0s 4ms/step - loss: 0.5316 - accuracy: 0.7417\n",
            "Epoch 121/200\n",
            "45/45 [==============================] - 0s 6ms/step - loss: 0.5317 - accuracy: 0.7424\n",
            "Epoch 122/200\n",
            "45/45 [==============================] - 0s 3ms/step - loss: 0.5310 - accuracy: 0.7465\n",
            "Epoch 123/200\n",
            "45/45 [==============================] - 0s 3ms/step - loss: 0.5310 - accuracy: 0.7458\n",
            "Epoch 124/200\n",
            "45/45 [==============================] - 0s 5ms/step - loss: 0.5305 - accuracy: 0.7458\n",
            "Epoch 125/200\n",
            "45/45 [==============================] - 0s 7ms/step - loss: 0.5304 - accuracy: 0.7458\n",
            "Epoch 126/200\n",
            "45/45 [==============================] - 0s 5ms/step - loss: 0.5306 - accuracy: 0.7403\n",
            "Epoch 127/200\n",
            "45/45 [==============================] - 0s 4ms/step - loss: 0.5296 - accuracy: 0.7431\n",
            "Epoch 128/200\n",
            "45/45 [==============================] - 0s 3ms/step - loss: 0.5297 - accuracy: 0.7417\n",
            "Epoch 129/200\n",
            "45/45 [==============================] - 0s 4ms/step - loss: 0.5293 - accuracy: 0.7410\n",
            "Epoch 130/200\n",
            "45/45 [==============================] - 0s 5ms/step - loss: 0.5296 - accuracy: 0.7396\n",
            "Epoch 131/200\n",
            "45/45 [==============================] - 0s 3ms/step - loss: 0.5289 - accuracy: 0.7417\n",
            "Epoch 132/200\n",
            "45/45 [==============================] - 0s 5ms/step - loss: 0.5286 - accuracy: 0.7396\n",
            "Epoch 133/200\n",
            "45/45 [==============================] - 0s 4ms/step - loss: 0.5286 - accuracy: 0.7417\n",
            "Epoch 134/200\n",
            "45/45 [==============================] - 0s 4ms/step - loss: 0.5281 - accuracy: 0.7382\n",
            "Epoch 135/200\n",
            "45/45 [==============================] - 0s 8ms/step - loss: 0.5280 - accuracy: 0.7382\n",
            "Epoch 136/200\n",
            "45/45 [==============================] - 0s 8ms/step - loss: 0.5273 - accuracy: 0.7403\n",
            "Epoch 137/200\n",
            "45/45 [==============================] - 0s 8ms/step - loss: 0.5273 - accuracy: 0.7410\n",
            "Epoch 138/200\n",
            "45/45 [==============================] - 0s 8ms/step - loss: 0.5269 - accuracy: 0.7417\n",
            "Epoch 139/200\n",
            "45/45 [==============================] - 0s 10ms/step - loss: 0.5265 - accuracy: 0.7396\n",
            "Epoch 140/200\n",
            "45/45 [==============================] - 0s 7ms/step - loss: 0.5266 - accuracy: 0.7431\n",
            "Epoch 141/200\n",
            "45/45 [==============================] - 0s 6ms/step - loss: 0.5264 - accuracy: 0.7396\n",
            "Epoch 142/200\n",
            "45/45 [==============================] - 0s 6ms/step - loss: 0.5258 - accuracy: 0.7396\n",
            "Epoch 143/200\n",
            "45/45 [==============================] - 0s 5ms/step - loss: 0.5260 - accuracy: 0.7410\n",
            "Epoch 144/200\n",
            "45/45 [==============================] - 0s 7ms/step - loss: 0.5257 - accuracy: 0.7382\n",
            "Epoch 145/200\n",
            "45/45 [==============================] - 0s 9ms/step - loss: 0.5254 - accuracy: 0.7410\n",
            "Epoch 146/200\n",
            "45/45 [==============================] - 1s 11ms/step - loss: 0.5250 - accuracy: 0.7451\n",
            "Epoch 147/200\n",
            "45/45 [==============================] - 0s 9ms/step - loss: 0.5248 - accuracy: 0.7444\n",
            "Epoch 148/200\n",
            "45/45 [==============================] - 0s 5ms/step - loss: 0.5243 - accuracy: 0.7368\n",
            "Epoch 149/200\n",
            "45/45 [==============================] - 0s 5ms/step - loss: 0.5241 - accuracy: 0.7396\n",
            "Epoch 150/200\n",
            "45/45 [==============================] - 0s 4ms/step - loss: 0.5241 - accuracy: 0.7431\n",
            "Epoch 151/200\n",
            "45/45 [==============================] - 0s 4ms/step - loss: 0.5239 - accuracy: 0.7410\n",
            "Epoch 152/200\n",
            "45/45 [==============================] - 0s 4ms/step - loss: 0.5235 - accuracy: 0.7410\n",
            "Epoch 153/200\n",
            "45/45 [==============================] - 0s 5ms/step - loss: 0.5233 - accuracy: 0.7431\n",
            "Epoch 154/200\n",
            "45/45 [==============================] - 0s 7ms/step - loss: 0.5237 - accuracy: 0.7410\n",
            "Epoch 155/200\n",
            "45/45 [==============================] - 0s 8ms/step - loss: 0.5232 - accuracy: 0.7375\n",
            "Epoch 156/200\n",
            "45/45 [==============================] - 0s 6ms/step - loss: 0.5229 - accuracy: 0.7410\n",
            "Epoch 157/200\n",
            "45/45 [==============================] - 0s 5ms/step - loss: 0.5224 - accuracy: 0.7375\n",
            "Epoch 158/200\n",
            "45/45 [==============================] - 0s 5ms/step - loss: 0.5220 - accuracy: 0.7410\n",
            "Epoch 159/200\n",
            "45/45 [==============================] - 0s 6ms/step - loss: 0.5218 - accuracy: 0.7403\n",
            "Epoch 160/200\n",
            "45/45 [==============================] - 0s 8ms/step - loss: 0.5217 - accuracy: 0.7417\n",
            "Epoch 161/200\n",
            "45/45 [==============================] - 0s 4ms/step - loss: 0.5215 - accuracy: 0.7444\n",
            "Epoch 162/200\n",
            "45/45 [==============================] - 0s 7ms/step - loss: 0.5213 - accuracy: 0.7417\n",
            "Epoch 163/200\n",
            "45/45 [==============================] - 0s 5ms/step - loss: 0.5211 - accuracy: 0.7403\n",
            "Epoch 164/200\n",
            "45/45 [==============================] - 0s 3ms/step - loss: 0.5211 - accuracy: 0.7389\n",
            "Epoch 165/200\n",
            "45/45 [==============================] - 0s 2ms/step - loss: 0.5207 - accuracy: 0.7424\n",
            "Epoch 166/200\n",
            "45/45 [==============================] - 0s 2ms/step - loss: 0.5202 - accuracy: 0.7410\n",
            "Epoch 167/200\n",
            "45/45 [==============================] - 0s 3ms/step - loss: 0.5202 - accuracy: 0.7382\n",
            "Epoch 168/200\n",
            "45/45 [==============================] - 0s 3ms/step - loss: 0.5192 - accuracy: 0.7437\n",
            "Epoch 169/200\n",
            "45/45 [==============================] - 0s 3ms/step - loss: 0.5195 - accuracy: 0.7444\n",
            "Epoch 170/200\n",
            "45/45 [==============================] - 0s 4ms/step - loss: 0.5195 - accuracy: 0.7437\n",
            "Epoch 171/200\n",
            "45/45 [==============================] - 0s 5ms/step - loss: 0.5189 - accuracy: 0.7458\n",
            "Epoch 172/200\n",
            "45/45 [==============================] - 0s 6ms/step - loss: 0.5184 - accuracy: 0.7458\n",
            "Epoch 173/200\n",
            "45/45 [==============================] - 0s 5ms/step - loss: 0.5187 - accuracy: 0.7444\n",
            "Epoch 174/200\n",
            "45/45 [==============================] - 0s 4ms/step - loss: 0.5183 - accuracy: 0.7444\n",
            "Epoch 175/200\n",
            "45/45 [==============================] - 0s 6ms/step - loss: 0.5180 - accuracy: 0.7458\n",
            "Epoch 176/200\n",
            "45/45 [==============================] - 0s 4ms/step - loss: 0.5181 - accuracy: 0.7458\n",
            "Epoch 177/200\n",
            "45/45 [==============================] - 0s 5ms/step - loss: 0.5178 - accuracy: 0.7451\n",
            "Epoch 178/200\n",
            "45/45 [==============================] - 0s 4ms/step - loss: 0.5177 - accuracy: 0.7451\n",
            "Epoch 179/200\n",
            "45/45 [==============================] - 0s 7ms/step - loss: 0.5175 - accuracy: 0.7458\n",
            "Epoch 180/200\n",
            "45/45 [==============================] - 0s 5ms/step - loss: 0.5171 - accuracy: 0.7451\n",
            "Epoch 181/200\n",
            "45/45 [==============================] - 0s 6ms/step - loss: 0.5168 - accuracy: 0.7458\n",
            "Epoch 182/200\n",
            "45/45 [==============================] - 0s 5ms/step - loss: 0.5171 - accuracy: 0.7444\n",
            "Epoch 183/200\n",
            "45/45 [==============================] - 0s 4ms/step - loss: 0.5167 - accuracy: 0.7472\n",
            "Epoch 184/200\n",
            "45/45 [==============================] - 0s 5ms/step - loss: 0.5164 - accuracy: 0.7479\n",
            "Epoch 185/200\n",
            "45/45 [==============================] - 0s 3ms/step - loss: 0.5166 - accuracy: 0.7472\n",
            "Epoch 186/200\n",
            "45/45 [==============================] - 0s 8ms/step - loss: 0.5163 - accuracy: 0.7479\n",
            "Epoch 187/200\n",
            "45/45 [==============================] - 0s 7ms/step - loss: 0.5161 - accuracy: 0.7458\n",
            "Epoch 188/200\n",
            "45/45 [==============================] - 0s 4ms/step - loss: 0.5156 - accuracy: 0.7472\n",
            "Epoch 189/200\n",
            "45/45 [==============================] - 0s 3ms/step - loss: 0.5160 - accuracy: 0.7479\n",
            "Epoch 190/200\n",
            "45/45 [==============================] - 0s 3ms/step - loss: 0.5153 - accuracy: 0.7458\n",
            "Epoch 191/200\n",
            "45/45 [==============================] - 0s 6ms/step - loss: 0.5153 - accuracy: 0.7458\n",
            "Epoch 192/200\n",
            "45/45 [==============================] - 0s 6ms/step - loss: 0.5149 - accuracy: 0.7465\n",
            "Epoch 193/200\n",
            "45/45 [==============================] - 0s 4ms/step - loss: 0.5149 - accuracy: 0.7479\n",
            "Epoch 194/200\n",
            "45/45 [==============================] - 0s 6ms/step - loss: 0.5147 - accuracy: 0.7486\n",
            "Epoch 195/200\n",
            "45/45 [==============================] - 0s 3ms/step - loss: 0.5147 - accuracy: 0.7458\n",
            "Epoch 196/200\n",
            "45/45 [==============================] - 0s 5ms/step - loss: 0.5147 - accuracy: 0.7472\n",
            "Epoch 197/200\n",
            "45/45 [==============================] - 0s 3ms/step - loss: 0.5143 - accuracy: 0.7472\n",
            "Epoch 198/200\n",
            "45/45 [==============================] - 0s 5ms/step - loss: 0.5142 - accuracy: 0.7472\n",
            "Epoch 199/200\n",
            "45/45 [==============================] - 1s 11ms/step - loss: 0.5142 - accuracy: 0.7479\n",
            "Epoch 200/200\n",
            "45/45 [==============================] - 0s 6ms/step - loss: 0.5141 - accuracy: 0.7465\n"
          ]
        },
        {
          "output_type": "execute_result",
          "data": {
            "text/plain": [
              "<keras.src.callbacks.History at 0x7f24204db880>"
            ]
          },
          "metadata": {},
          "execution_count": 375
        }
      ]
    },
    {
      "cell_type": "code",
      "source": [
        "test_loss, test_accuracy = model.evaluate(X_test_redes, y_test_redes, verbose=0)\n",
        "\n",
        "print(f'La precisión del modelo en los datos de prueba es: {test_accuracy * 100}%')"
      ],
      "metadata": {
        "colab": {
          "base_uri": "https://localhost:8080/"
        },
        "id": "vkfDOT2g5j2i",
        "outputId": "f8549c72-483c-4152-8fe5-19233ff4f146"
      },
      "execution_count": null,
      "outputs": [
        {
          "output_type": "stream",
          "name": "stdout",
          "text": [
            "La precisión del modelo en los datos de prueba es: 72.77777791023254%\n"
          ]
        }
      ]
    },
    {
      "cell_type": "code",
      "source": [
        "y_pred = model.predict(X_test_redes)\n",
        "y_pred = (y_pred > 0.5)\n",
        "\n",
        "\n",
        "cm = confusion_matrix(y_test_redes, y_pred)\n",
        "\n",
        "\n",
        "plt.figure(figsize=(10, 7))\n",
        "sns.heatmap(cm, annot=True, fmt='d')\n",
        "plt.xlabel('Predicción')\n",
        "plt.ylabel('Verdad')"
      ],
      "metadata": {
        "colab": {
          "base_uri": "https://localhost:8080/",
          "height": 654
        },
        "id": "vlTOTPzP6WCs",
        "outputId": "2c891ddc-fb2b-4635-dc67-9934171efd41"
      },
      "execution_count": null,
      "outputs": [
        {
          "output_type": "stream",
          "name": "stdout",
          "text": [
            "12/12 [==============================] - 0s 2ms/step\n"
          ]
        },
        {
          "output_type": "execute_result",
          "data": {
            "text/plain": [
              "Text(95.72222222222221, 0.5, 'Verdad')"
            ]
          },
          "metadata": {},
          "execution_count": 377
        },
        {
          "output_type": "display_data",
          "data": {
            "text/plain": [
              "<Figure size 1000x700 with 2 Axes>"
            ],
            "image/png": "[encoded data removed]"
          },
          "metadata": {}
        }
      ]
    },
    {
      "cell_type": "markdown",
      "source": [
        "# Random Forest"
      ],
      "metadata": {
        "id": "UoUZQ9su6i-o"
      }
    },
    {
      "cell_type": "code",
      "source": [
        "columnas_seleccionadas = ['Edad','MCA2','Colesterol']\n",
        "\n",
        "RF_df = df_all[columnas_seleccionadas]"
      ],
      "metadata": {
        "id": "RxN2kCuY6WT0"
      },
      "execution_count": null,
      "outputs": []
    },
    {
      "cell_type": "code",
      "source": [
        "X,y = splitData(RF_df, 'Colesterol')"
      ],
      "metadata": {
        "id": "ZK76Qtew6m-F"
      },
      "execution_count": null,
      "outputs": []
    },
    {
      "cell_type": "code",
      "source": [
        "smote = SMOTE(sampling_strategy={0: 1000, 1: 600}, random_state=42)\n",
        "X, y = smote.fit_resample(X, y)"
      ],
      "metadata": {
        "colab": {
          "base_uri": "https://localhost:8080/"
        },
        "id": "bAHg2qqZ7Tme",
        "outputId": "b689506a-2ea3-4a1e-fecf-4f8cd3883e12"
      },
      "execution_count": null,
      "outputs": [
        {
          "output_type": "stream",
          "name": "stderr",
          "text": [
            "/usr/local/lib/python3.10/dist-packages/imblearn/utils/_validation.py:313: UserWarning: After over-sampling, the number of samples (1000) in class 0 will be larger than the number of samples in the majority class (class #0 -> 103)\n",
            "  warnings.warn(\n",
            "/usr/local/lib/python3.10/dist-packages/imblearn/utils/_validation.py:313: UserWarning: After over-sampling, the number of samples (600) in class 1 will be larger than the number of samples in the majority class (class #0 -> 103)\n",
            "  warnings.warn(\n"
          ]
        }
      ]
    },
    {
      "cell_type": "code",
      "source": [
        "X_train, X_test, y_train, y_test = trainTest(X, y, 0.20, 1234)\n"
      ],
      "metadata": {
        "id": "bX_Zv6Qq7XPa"
      },
      "execution_count": null,
      "outputs": []
    },
    {
      "cell_type": "code",
      "source": [
        "randonBosque = RandomForestClassifier(n_estimators = 1000, criterion = 'entropy', random_state = 42)\n",
        "randonBosque.fit(X_train, y_train)"
      ],
      "metadata": {
        "colab": {
          "base_uri": "https://localhost:8080/",
          "height": 75
        },
        "id": "NmVTDfls7XkT",
        "outputId": "4e9256c5-3507-4f9b-886e-9d6cdaa9bdf9"
      },
      "execution_count": null,
      "outputs": [
        {
          "output_type": "execute_result",
          "data": {
            "text/plain": [
              "RandomForestClassifier(criterion='entropy', n_estimators=1000, random_state=42)"
            ],
            "text/html": [
              "<style>#sk-container-id-6 {color: black;background-color: white;}#sk-container-id-6 pre{padding: 0;}#sk-container-id-6 div.sk-toggleable {background-color: white;}#sk-container-id-6 label.sk-toggleable__label {cursor: pointer;display: block;width: 100%;margin-bottom: 0;padding: 0.3em;box-sizing: border-box;text-align: center;}#sk-container-id-6 label.sk-toggleable__label-arrow:before {content: \"▸\";float: left;margin-right: 0.25em;color: #696969;}#sk-container-id-6 label.sk-toggleable__label-arrow:hover:before {color: black;}#sk-container-id-6 div.sk-estimator:hover label.sk-toggleable__label-arrow:before {color: black;}#sk-container-id-6 div.sk-toggleable__content {max-height: 0;max-width: 0;overflow: hidden;text-align: left;background-color: #f0f8ff;}#sk-container-id-6 div.sk-toggleable__content pre {margin: 0.2em;color: black;border-radius: 0.25em;background-color: #f0f8ff;}#sk-container-id-6 input.sk-toggleable__control:checked~div.sk-toggleable__content {max-height: 200px;max-width: 100%;overflow: auto;}#sk-container-id-6 input.sk-toggleable__control:checked~label.sk-toggleable__label-arrow:before {content: \"▾\";}#sk-container-id-6 div.sk-estimator input.sk-toggleable__control:checked~label.sk-toggleable__label {background-color: #d4ebff;}#sk-container-id-6 div.sk-label input.sk-toggleable__control:checked~label.sk-toggleable__label {background-color: #d4ebff;}#sk-container-id-6 input.sk-hidden--visually {border: 0;clip: rect(1px 1px 1px 1px);clip: rect(1px, 1px, 1px, 1px);height: 1px;margin: -1px;overflow: hidden;padding: 0;position: absolute;width: 1px;}#sk-container-id-6 div.sk-estimator {font-family: monospace;background-color: #f0f8ff;border: 1px dotted black;border-radius: 0.25em;box-sizing: border-box;margin-bottom: 0.5em;}#sk-container-id-6 div.sk-estimator:hover {background-color: #d4ebff;}#sk-container-id-6 div.sk-parallel-item::after {content: \"\";width: 100%;border-bottom: 1px solid gray;flex-grow: 1;}#sk-container-id-6 div.sk-label:hover label.sk-toggleable__label {background-color: #d4ebff;}#sk-container-id-6 div.sk-serial::before {content: \"\";position: absolute;border-left: 1px solid gray;box-sizing: border-box;top: 0;bottom: 0;left: 50%;z-index: 0;}#sk-container-id-6 div.sk-serial {display: flex;flex-direction: column;align-items: center;background-color: white;padding-right: 0.2em;padding-left: 0.2em;position: relative;}#sk-container-id-6 div.sk-item {position: relative;z-index: 1;}#sk-container-id-6 div.sk-parallel {display: flex;align-items: stretch;justify-content: center;background-color: white;position: relative;}#sk-container-id-6 div.sk-item::before, #sk-container-id-6 div.sk-parallel-item::before {content: \"\";position: absolute;border-left: 1px solid gray;box-sizing: border-box;top: 0;bottom: 0;left: 50%;z-index: -1;}#sk-container-id-6 div.sk-parallel-item {display: flex;flex-direction: column;z-index: 1;position: relative;background-color: white;}#sk-container-id-6 div.sk-parallel-item:first-child::after {align-self: flex-end;width: 50%;}#sk-container-id-6 div.sk-parallel-item:last-child::after {align-self: flex-start;width: 50%;}#sk-container-id-6 div.sk-parallel-item:only-child::after {width: 0;}#sk-container-id-6 div.sk-dashed-wrapped {border: 1px dashed gray;margin: 0 0.4em 0.5em 0.4em;box-sizing: border-box;padding-bottom: 0.4em;background-color: white;}#sk-container-id-6 div.sk-label label {font-family: monospace;font-weight: bold;display: inline-block;line-height: 1.2em;}#sk-container-id-6 div.sk-label-container {text-align: center;}#sk-container-id-6 div.sk-container {/* jupyter's `normalize.less` sets `[hidden] { display: none; }` but bootstrap.min.css set `[hidden] { display: none !important; }` so we also need the `!important` here to be able to override the default hidden behavior on the sphinx rendered scikit-learn.org. See: https://github.com/scikit-learn/scikit-learn/issues/21755 */display: inline-block !important;position: relative;}#sk-container-id-6 div.sk-text-repr-fallback {display: none;}</style><div id=\"sk-container-id-6\" class=\"sk-top-container\"><div class=\"sk-text-repr-fallback\"><pre>RandomForestClassifier(criterion=&#x27;entropy&#x27;, n_estimators=1000, random_state=42)</pre><b>In a Jupyter environment, please rerun this cell to show the HTML representation or trust the notebook. <br />On GitHub, the HTML representation is unable to render, please try loading this page with nbviewer.org.</b></div><div class=\"sk-container\" hidden><div class=\"sk-item\"><div class=\"sk-estimator sk-toggleable\"><input class=\"sk-toggleable__control sk-hidden--visually\" id=\"sk-estimator-id-6\" type=\"checkbox\" checked><label for=\"sk-estimator-id-6\" class=\"sk-toggleable__label sk-toggleable__label-arrow\">RandomForestClassifier</label><div class=\"sk-toggleable__content\"><pre>RandomForestClassifier(criterion=&#x27;entropy&#x27;, n_estimators=1000, random_state=42)</pre></div></div></div></div></div>"
            ]
          },
          "metadata": {},
          "execution_count": 401
        }
      ]
    },
    {
      "cell_type": "code",
      "source": [
        "Y_pred1 = randonBosque.predict(X_test)"
      ],
      "metadata": {
        "id": "-NIBIwMm7ZMj"
      },
      "execution_count": null,
      "outputs": []
    },
    {
      "cell_type": "code",
      "source": [
        "print(Y_pred1)"
      ],
      "metadata": {
        "colab": {
          "base_uri": "https://localhost:8080/"
        },
        "id": "sFIpKR2v7a0c",
        "outputId": "ec6ae1c6-bc19-489b-ddda-13c8fc2c7f8a"
      },
      "execution_count": null,
      "outputs": [
        {
          "output_type": "stream",
          "name": "stdout",
          "text": [
            "[0 0 0 0 1 1 1 1 1 0 1 0 0 0 1 1 1 0 0 0 0 1 1 1 1 1 0 0 0 1 0 1 0 1 0 0 1\n",
            " 1 1 0 0 0 1 1 0 0 0 1 1 0 0 0 0 0 0 1 0 0 1 1 1 0 0 0 0 0 0 0 1 0 1 1 0 0\n",
            " 1 0 1 0 1 0 1 1 0 1 0 1 1 1 0 1 0 1 0 0 1 1 1 1 0 1 1 0 0 0 1 0 1 0 0 1 0\n",
            " 1 0 0 0 0 1 0 1 0 0 1 0 1 0 0 0 1 1 0 0 0 0 0 0 0 0 1 1 0 0 0 1 1 1 0 1 1\n",
            " 0 0 0 0 1 1 1 1 1 1 0 0 1 0 0 0 0 1 1 0 0 0 0 1 0 1 0 0 0 0 1 1 0 1 1 1 1\n",
            " 0 1 0 1 1 0 0 1 0 0 0 0 0 0 0 0 0 1 1 0 1 0 0 0 0 0 1 0 0 0 1 1 1 1 0 0 1\n",
            " 0 0 0 0 0 1 0 0 1 1 0 0 1 0 0 0 0 0 1 1 1 0 1 1 1 0 1 0 0 1 0 0 0 0 1 1 1\n",
            " 0 0 0 1 0 0 0 0 1 1 0 0 0 0 0 1 0 1 0 1 0 0 0 0 0 1 1 0 1 0 1 0 1 0 0 0 0\n",
            " 0 0 0 1 0 1 1 0 0 0 0 1 1 1 1 0 1 0 0 0 1 0 1 1]\n"
          ]
        }
      ]
    },
    {
      "cell_type": "code",
      "source": [
        "print(accuracy_score(y_test,Y_pred1))"
      ],
      "metadata": {
        "colab": {
          "base_uri": "https://localhost:8080/"
        },
        "id": "H9DN0T-J7b_R",
        "outputId": "26ae016c-ee4b-4d15-bdb2-05671c50f03f"
      },
      "execution_count": null,
      "outputs": [
        {
          "output_type": "stream",
          "name": "stdout",
          "text": [
            "0.85625\n"
          ]
        }
      ]
    },
    {
      "cell_type": "code",
      "source": [
        "cm = confusion_matrix(y_test, Y_pred1)\n",
        "\n",
        "print('Matriz de confusión:')\n",
        "print(cm)\n",
        "\n",
        "accuracy = accuracy_score(y_test, Y_pred1)\n",
        "print(f'Precisión del modelo: {accuracy}')\n",
        "\n",
        "plt.figure(figsize=(10,7))\n",
        "sns.heatmap(cm, annot=True, fmt='d')\n",
        "plt.xlabel('Predicho')\n",
        "plt.ylabel('Real')\n",
        "plt.show()"
      ],
      "metadata": {
        "colab": {
          "base_uri": "https://localhost:8080/",
          "height": 688
        },
        "id": "ofS7d0qx7drY",
        "outputId": "8c34f971-0669-430a-a7ea-91b28c42b760"
      },
      "execution_count": null,
      "outputs": [
        {
          "output_type": "stream",
          "name": "stdout",
          "text": [
            "Matriz de confusión:\n",
            "[[165  23]\n",
            " [ 23 109]]\n",
            "Precisión del modelo: 0.85625\n"
          ]
        },
        {
          "output_type": "display_data",
          "data": {
            "text/plain": [
              "<Figure size 1000x700 with 2 Axes>"
            ],
            "image/png": "[encoded data removed]"
          },
          "metadata": {}
        }
      ]
    },
    {
      "cell_type": "code",
      "source": [
        "reporteClasificacion(y_test,Y_pred1)"
      ],
      "metadata": {
        "colab": {
          "base_uri": "https://localhost:8080/"
        },
        "id": "TBRGeLWG7hdQ",
        "outputId": "dc19ecd6-9617-4db3-8753-e0fdfa05cf9f"
      },
      "execution_count": null,
      "outputs": [
        {
          "output_type": "stream",
          "name": "stdout",
          "text": [
            "Reporte de clasificación:\n",
            "              precision    recall  f1-score   support\n",
            "\n",
            "           0       0.88      0.88      0.88       188\n",
            "           1       0.83      0.83      0.83       132\n",
            "\n",
            "    accuracy                           0.86       320\n",
            "   macro avg       0.85      0.85      0.85       320\n",
            "weighted avg       0.86      0.86      0.86       320\n",
            "\n",
            "\n",
            "\n"
          ]
        }
      ]
    },
    {
      "cell_type": "code",
      "source": [
        "print(generar_reporte_parrafo(y_test, Y_pred1))"
      ],
      "metadata": {
        "colab": {
          "base_uri": "https://localhost:8080/"
        },
        "id": "_7QGx24m7xpW",
        "outputId": "64227513-5298-475b-9ceb-f1d77e04cb21"
      },
      "execution_count": null,
      "outputs": [
        {
          "output_type": "stream",
          "name": "stdout",
          "text": [
            "Reporte de clasificación:\n",
            "\n",
            "Explicación de métricas:\n",
            "- Precision: La proporción de observaciones positivas correctas respecto a las predicciones positivas totales.\n",
            "- Recall: La proporción de observaciones positivas correctas respecto a todas las observaciones de la clase.\n",
            "- F1-Score: Una medida ponderada de la precisión y el recall, donde el mejor valor es 1 y el peor es 0.\n",
            "- Support: El número de ocurrencias de cada clase en los datos de prueba.\n",
            "\n",
            "Clase 0:\n",
            "- precision: 0.88\n",
            "- recall: 0.88\n",
            "- f1-score: 0.88\n",
            "- support: 188.00\n",
            "\n",
            "Clase 1:\n",
            "- precision: 0.83\n",
            "- recall: 0.83\n",
            "- f1-score: 0.83\n",
            "- support: 132.00\n"
          ]
        }
      ]
    },
    {
      "cell_type": "code",
      "source": [
        "accuracy_KNN = 0.90\n",
        "accuracy_Regresion_logistica=  0.55\n",
        "accuracy_Bayes_Naives = 0.60\n",
        "accuracy_Redes_Neuronales = 0.72\n",
        "accuracy_Random_forest = 0.86\n",
        "\n",
        "\n",
        "accuracy_values = [accuracy_KNN,accuracy_Regresion_logistica,accuracy_Bayes_Naives,accuracy_Redes_Neuronales,accuracy_Random_forest]\n",
        "\n",
        "models = ['KNN', 'Regresión Logística', 'Bayes Naives', 'Redes Neuronales', 'Random Forest']\n",
        "\n",
        "\n",
        "plt.figure(figsize=(10, 6))\n",
        "sns.barplot(x=models, y=accuracy_values, palette='viridis')\n",
        "\n",
        "plt.xlabel('Modelo', fontsize=14)\n",
        "plt.ylabel('Precisión', fontsize=14)\n",
        "plt.title('Comparación de precisión para Diferentes Modelos', fontsize=16)\n",
        "plt.ylim(0.5, 0.95)\n",
        "plt.grid(axis='y')\n",
        "\n",
        "plt.show()"
      ],
      "metadata": {
        "colab": {
          "base_uri": "https://localhost:8080/",
          "height": 660
        },
        "id": "Xmkq2M-T7y_b",
        "outputId": "8b7504bb-1d60-491a-f11d-82efaefd9ab7"
      },
      "execution_count": null,
      "outputs": [
        {
          "output_type": "stream",
          "name": "stderr",
          "text": [
            "<ipython-input-411-38a6383aaecb>:14: FutureWarning: \n",
            "\n",
            "Passing `palette` without assigning `hue` is deprecated and will be removed in v0.14.0. Assign the `x` variable to `hue` and set `legend=False` for the same effect.\n",
            "\n",
            "  sns.barplot(x=models, y=accuracy_values, palette='viridis')\n"
          ]
        },
        {
          "output_type": "display_data",
          "data": {
            "text/plain": [
              "<Figure size 1000x600 with 1 Axes>"
            ],
            "image/png": "[encoded data removed]"
          },
          "metadata": {}
        }
      ]
    },
    {
      "cell_type": "code",
      "source": [
        "data_categorical.info()"
      ],
      "metadata": {
        "colab": {
          "base_uri": "https://localhost:8080/"
        },
        "id": "LpW2zRyP_Qx2",
        "outputId": "48da3aa7-80d9-46e0-f85a-c9c6b2e6e4ed"
      },
      "execution_count": null,
      "outputs": [
        {
          "output_type": "stream",
          "name": "stdout",
          "text": [
            "<class 'pandas.core.frame.DataFrame'>\n",
            "RangeIndex: 200 entries, 0 to 199\n",
            "Data columns (total 3 columns):\n",
            " #   Column  Non-Null Count  Dtype   \n",
            "---  ------  --------------  -----   \n",
            " 0   Sexo    200 non-null    category\n",
            " 1   PS      200 non-null    category\n",
            " 2   Droga   200 non-null    category\n",
            "dtypes: category(3)\n",
            "memory usage: 1.2 KB\n"
          ]
        }
      ]
    },
    {
      "cell_type": "code",
      "source": [
        "loadings = mca.column_coordinates(data_categorical)\n",
        "loadings.plot(kind='bar', figsize=(10, 6))\n",
        "plt.title('Cargas factoriales de las variables en cada dimensión')\n",
        "plt.xlabel('Variable')\n",
        "plt.ylabel('Carga factorial')\n",
        "plt.xticks(rotation=45)\n",
        "plt.legend(title='Dimensión')\n",
        "plt.show()"
      ],
      "metadata": {
        "colab": {
          "base_uri": "https://localhost:8080/",
          "height": 631
        },
        "id": "7GQu_TPz9n7f",
        "outputId": "6135a756-a2ce-49bc-cefd-a74d24063ac5"
      },
      "execution_count": null,
      "outputs": [
        {
          "output_type": "display_data",
          "data": {
            "text/plain": [
              "<Figure size 1000x600 with 1 Axes>"
            ],
            "image/png": "[encoded data removed]"
          },
          "metadata": {}
        }
      ]
    }
  ]
}